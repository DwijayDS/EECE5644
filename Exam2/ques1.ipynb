{
 "cells": [
  {
   "cell_type": "code",
   "execution_count": 1,
   "metadata": {},
   "outputs": [],
   "source": [
    "import numpy as np\n",
    "import matplotlib.pyplot as plt\n",
    "import random as rnd\n",
    "import pandas as pd\n",
    "import math"
   ]
  },
  {
   "cell_type": "code",
   "execution_count": 2,
   "metadata": {},
   "outputs": [],
   "source": [
    "Prior_prob = np.array([0.9, 0.1])"
   ]
  },
  {
   "cell_type": "code",
   "execution_count": 3,
   "metadata": {},
   "outputs": [],
   "source": [
    "mean1 = np.array([-2, 0])\n",
    "cov1 = np.array([[1, -0.9], [-0.9, 2]])\n",
    "\n",
    "mean2 = np.array([2, 0])\n",
    "cov2 = np.array([[2, 0.9], [0.9, 1]])"
   ]
  },
  {
   "cell_type": "code",
   "execution_count": 4,
   "metadata": {},
   "outputs": [],
   "source": [
    "def multivariate_normal(x, d, mean, covariance):\n",
    "    \"\"\"pdf of the multivariate normal distribution.\"\"\"\n",
    "    x_m = x - mean\n",
    "    return (1. / (np.sqrt((2 * np.pi)**d * np.linalg.det(covariance))) * \n",
    "            np.exp(-(np.linalg.solve(covariance, x_m).T.dot(x_m)) / 2))\n"
   ]
  },
  {
   "cell_type": "code",
   "execution_count": 5,
   "metadata": {},
   "outputs": [
    {
     "name": "stdout",
     "output_type": "stream",
     "text": [
      "(9, 2, 1) (1, 2, 1)\n",
      "(10, 1)\n",
      "(1, 2, 1)\n"
     ]
    }
   ],
   "source": [
    "D10T0 = []\n",
    "D10T1 = []\n",
    "\n",
    "for i in range(10):\n",
    "    temp1 = np.random.uniform(0,1)\n",
    "    if temp1 <= Prior_prob[0]:\n",
    "        sample = np.random.multivariate_normal(mean1,cov1,1).T\n",
    "        D10T0.append(sample)\n",
    "    else:\n",
    "        sample = np.random.multivariate_normal(mean2,cov2,1).T\n",
    "        D10T1.append(sample) \n",
    "D10T0 = np.array(D10T0)\n",
    "D10T1 = np.array(D10T1)\n",
    "print(np.shape(D10T0),np.shape(D10T1))\n",
    "lable_0 = np.zeros((np.shape(D10T0)[0],1))\n",
    "lable_1 = np.ones((np.shape(D10T1)[0],1))\n",
    "lable10 = np.vstack((lable_0,lable_1))\n",
    "class_final10 = np.vstack((D10T0[:,:,0],D10T1[:,:,0]))\n",
    "print(np.shape(lable10))\n",
    "print(np.shape(D10T1))"
   ]
  },
  {
   "cell_type": "code",
   "execution_count": 6,
   "metadata": {},
   "outputs": [],
   "source": [
    "df10 = pd.DataFrame({'x':class_final10[:,0], 'y':class_final10[:,1], 'label':lable10[:,0]})"
   ]
  },
  {
   "cell_type": "code",
   "execution_count": 25,
   "metadata": {},
   "outputs": [
    {
     "data": {
      "image/png": "[encoded data removed]",
      "text/plain": [
       "<Figure size 432x288 with 1 Axes>"
      ]
     },
     "metadata": {
      "needs_background": "light"
     },
     "output_type": "display_data"
    }
   ],
   "source": [
    "plt.scatter(D10T0[:,0,0],D10T0[:,1,0],marker='*',color='red')\n",
    "plt.scatter(D10T1[:,0,0],D10T1[:,1,0],marker='*',color='blue')\n",
    "plt.xlabel('X1')\n",
    "plt.ylabel('X2')\n",
    "plt.title('Realization of the 10 generated data samples')\n",
    "plt.legend(('Class 0','Class 1'))\n",
    "plt.show()"
   ]
  },
  {
   "cell_type": "code",
   "execution_count": 7,
   "metadata": {},
   "outputs": [
    {
     "name": "stdout",
     "output_type": "stream",
     "text": [
      "(91, 2, 1) (9, 2, 1)\n",
      "(100, 1)\n",
      "(9, 2, 1)\n"
     ]
    }
   ],
   "source": [
    "D100T0 = []\n",
    "D100T1 = []\n",
    "\n",
    "for i in range(100):\n",
    "    temp1 = np.random.uniform(0,1)\n",
    "    if temp1 <= Prior_prob[0]:\n",
    "        sample = np.random.multivariate_normal(mean1,cov1,1).T\n",
    "        D100T0.append(sample)\n",
    "    else:\n",
    "        sample = np.random.multivariate_normal(mean2,cov2,1).T\n",
    "        D100T1.append(sample) \n",
    "D100T0 = np.array(D100T0)\n",
    "D100T1 = np.array(D100T1)\n",
    "print(np.shape(D100T0),np.shape(D100T1))\n",
    "lable_0 = np.zeros((np.shape(D100T0)[0],1))\n",
    "lable_1 = np.ones((np.shape(D100T1)[0],1))\n",
    "lable100 = np.vstack((lable_0,lable_1))\n",
    "class_final100 = np.vstack((D100T0[:,:,0],D100T1[:,:,0]))\n",
    "print(np.shape(lable100))\n",
    "print(np.shape(D100T1))"
   ]
  },
  {
   "cell_type": "code",
   "execution_count": 8,
   "metadata": {},
   "outputs": [],
   "source": [
    "df100 = pd.DataFrame({'x':class_final100[:,0], 'y':class_final100[:,1], 'label':lable100[:,0]})"
   ]
  },
  {
   "cell_type": "code",
   "execution_count": 26,
   "metadata": {},
   "outputs": [
    {
     "data": {
      "image/png": "[encoded data removed]",
      "text/plain": [
       "<Figure size 432x288 with 1 Axes>"
      ]
     },
     "metadata": {
      "needs_background": "light"
     },
     "output_type": "display_data"
    }
   ],
   "source": [
    "plt.scatter(D100T0[:,0,0],D100T0[:,1,0],marker='*',color='red')\n",
    "plt.scatter(D100T1[:,0,0],D100T1[:,1,0],marker='*',color='blue')\n",
    "plt.xlabel('X1')\n",
    "plt.ylabel('X2')\n",
    "plt.title('Realization of the 100 generated data samples')\n",
    "plt.legend(('Class 0','Class 1'))\n",
    "plt.show()"
   ]
  },
  {
   "cell_type": "code",
   "execution_count": 9,
   "metadata": {},
   "outputs": [
    {
     "name": "stdout",
     "output_type": "stream",
     "text": [
      "(898, 2, 1) (102, 2, 1)\n",
      "(100, 1)\n",
      "(102, 2, 1)\n"
     ]
    }
   ],
   "source": [
    "D1000T0 = []\n",
    "D1000T1 = []\n",
    "\n",
    "for i in range(1000):\n",
    "    temp1 = np.random.uniform(0,1)\n",
    "    if temp1 <= Prior_prob[0]:\n",
    "        sample = np.random.multivariate_normal(mean1,cov1,1).T\n",
    "        D1000T0.append(sample)\n",
    "    else:\n",
    "        sample = np.random.multivariate_normal(mean2,cov2,1).T\n",
    "        D1000T1.append(sample) \n",
    "D1000T0 = np.array(D1000T0)\n",
    "D1000T1 = np.array(D1000T1)\n",
    "print(np.shape(D1000T0),np.shape(D1000T1))\n",
    "lable_0 = np.zeros((np.shape(D1000T0)[0],1))\n",
    "lable_1 = np.ones((np.shape(D1000T1)[0],1))\n",
    "lable1000 = np.vstack((lable_0,lable_1))\n",
    "class_final1000 = np.vstack((D1000T0[:,:,0],D1000T1[:,:,0]))\n",
    "print(np.shape(lable100))\n",
    "print(np.shape(D1000T1))"
   ]
  },
  {
   "cell_type": "code",
   "execution_count": 10,
   "metadata": {},
   "outputs": [],
   "source": [
    "df1000 = pd.DataFrame({'x':class_final1000[:,0], 'y':class_final1000[:,1], 'label':lable1000[:,0]})"
   ]
  },
  {
   "cell_type": "code",
   "execution_count": 27,
   "metadata": {},
   "outputs": [
    {
     "data": {
      "image/png": "[encoded data removed]",
      "text/plain": [
       "<Figure size 432x288 with 1 Axes>"
      ]
     },
     "metadata": {
      "needs_background": "light"
     },
     "output_type": "display_data"
    }
   ],
   "source": [
    "plt.scatter(D1000T0[:,0,0],D1000T0[:,1,0],marker='*',color='red')\n",
    "plt.scatter(D1000T1[:,0,0],D1000T1[:,1,0],marker='*',color='blue')\n",
    "plt.xlabel('X1')\n",
    "plt.ylabel('X2')\n",
    "plt.title('Realization of the 1000 generated data samples')\n",
    "plt.legend(('Class 0','Class 1'))\n",
    "plt.show()"
   ]
  },
  {
   "cell_type": "code",
   "execution_count": 11,
   "metadata": {},
   "outputs": [
    {
     "name": "stdout",
     "output_type": "stream",
     "text": [
      "(9057, 2, 1) (943, 2, 1)\n",
      "(10000, 1)\n",
      "(10000, 2)\n"
     ]
    }
   ],
   "source": [
    "D10KV0 = []\n",
    "D10KV1 = []\n",
    "\n",
    "for i in range(10000):\n",
    "    temp1 = np.random.uniform(0,1)\n",
    "    if temp1 <= Prior_prob[0]:\n",
    "        sample = np.random.multivariate_normal(mean1,cov1,1).T\n",
    "        D10KV0.append(sample)\n",
    "    else:\n",
    "        sample = np.random.multivariate_normal(mean2,cov2,1).T\n",
    "        D10KV1.append(sample) \n",
    "D10KV0 = np.array(D10KV0)\n",
    "D10KV1 = np.array(D10KV1)\n",
    "print(np.shape(D10KV0),np.shape(D10KV1))\n",
    "lable_0 = np.zeros((np.shape(D10KV0)[0],1))\n",
    "lable_1 = np.ones((np.shape(D10KV1)[0],1))\n",
    "lable10KV = np.vstack((lable_0,lable_1))\n",
    "class_final10KV = np.vstack((D10KV0[:,:,0],D10KV1[:,:,0]))\n",
    "print(np.shape(lable10KV))\n",
    "print(np.shape(class_final10KV))"
   ]
  },
  {
   "cell_type": "code",
   "execution_count": 12,
   "metadata": {},
   "outputs": [],
   "source": [
    "df10KV = pd.DataFrame({'x':class_final10KV[:,0], 'y':class_final10KV[:,1], 'label':lable10KV[:,0]})"
   ]
  },
  {
   "cell_type": "code",
   "execution_count": 28,
   "metadata": {},
   "outputs": [
    {
     "data": {
      "image/png": "[encoded data removed]",
      "text/plain": [
       "<Figure size 432x288 with 1 Axes>"
      ]
     },
     "metadata": {
      "needs_background": "light"
     },
     "output_type": "display_data"
    }
   ],
   "source": [
    "plt.scatter(D10KV0[:,0,0],D10KV0[:,1,0],marker='*',color='red')\n",
    "plt.scatter(D10KV1[:,0,0],D10KV1[:,1,0],marker='*',color='blue')\n",
    "plt.xlabel('X1')\n",
    "plt.ylabel('X2')\n",
    "plt.title('Realization of the Validation samples')\n",
    "plt.legend(('Class 0','Class 1'))\n",
    "plt.show()"
   ]
  },
  {
   "cell_type": "markdown",
   "metadata": {},
   "source": [
    "### Prediction"
   ]
  },
  {
   "cell_type": "code",
   "execution_count": 32,
   "metadata": {},
   "outputs": [
    {
     "name": "stdout",
     "output_type": "stream",
     "text": [
      "(10000, 1)\n"
     ]
    }
   ],
   "source": [
    "#PREDICTION\n",
    "classify_0 = []\n",
    "classify_1 = []\n",
    "ratio_right = Prior_prob[0]/Prior_prob[1]\n",
    "count = 0\n",
    "\n",
    "for i in D10KV0:\n",
    "    pred0 = multivariate_normal(i[:,0],2,mean1,cov1)\n",
    "    pred1 = multivariate_normal(i[:,0],2,mean2,cov2)\n",
    "    ratio_left = float(pred1/pred0)\n",
    "    if (ratio_left >ratio_right):\n",
    "        classify_0.append(1)\n",
    "    else:\n",
    "        classify_0.append(0)\n",
    "        count +=1\n",
    "        \n",
    "for i in D10KV1:\n",
    "    pred0 = multivariate_normal(i[:,0],2,mean1,cov1)\n",
    "    pred1 = multivariate_normal(i[:,0],2,mean2,cov2)\n",
    "    ratio_left = float(pred1/pred0)\n",
    "    if (ratio_left >ratio_right):\n",
    "        classify_1.append(1)\n",
    "    else:\n",
    "        classify_1.append(0)\n",
    "        \n",
    "        \n",
    "classify_0 = np.reshape(classify_0,(np.shape(classify_0)[0],1))\n",
    "classify_1 = np.reshape(classify_1,(np.shape(classify_1)[0],1))\n",
    "classify = np.vstack((classify_0,classify_1))\n",
    "print(np.shape(classify))\n",
    "\n",
    "df = pd.DataFrame({'x':class_final10KV[:,0], 'y':class_final10KV[:,1], 'label':lable10KV[:,0], 'classify':classify[:,0]})\n",
    "\n",
    "ind00 = np.where((df['label']==0) & (df['classify']==0))\n",
    "#plt.scatter(df.loc[ind00]['x'],df.loc[ind00]['y'], marker='+',color = 'red')\n",
    "ind10 = np.where((df['label']==0) & (df['classify']==1))\n",
    "#plt.scatter(df.loc[ind01]['x'],df.loc[ind01]['y'], marker='+',color = 'yellow')\n",
    "ind01 = np.where((df['label']==1) & (df['classify']==0))\n",
    "#plt.scatter(df.loc[ind10]['x'],df.loc[ind10]['y'], marker='+',color = 'blue')\n",
    "ind11 = np.where((df['label']==1) & (df['classify']==1))\n",
    "#plt.scatter(df.loc[ind11]['x'],df.loc[ind11]['y'], marker='+',color = 'green')\n",
    "\n",
    "\n",
    "#Setting probabilities\n",
    "p00 = (np.shape(ind00)[1])/(np.shape(D10KV0)[0])\n",
    "p10 = (np.shape(ind10)[1])/(np.shape(D10KV0)[0])\n",
    "p01 = (np.shape(ind01)[1])/(np.shape(D10KV1)[0])\n",
    "p11 = (np.shape(ind11)[1])/(np.shape(D10KV1)[0])\n",
    "\n",
    "new_sx,new_sy = p10,p11"
   ]
  },
  {
   "cell_type": "code",
   "execution_count": 15,
   "metadata": {},
   "outputs": [
    {
     "name": "stdout",
     "output_type": "stream",
     "text": [
      "Gamma: 0.0 Temp 1\n",
      "Gamma: -0.05129329438755058 Temp 0.95\n",
      "Gamma: -0.1053605156578264 Temp 0.8999999999999999\n",
      "Gamma: -0.16251892949777508 Temp 0.8499999999999999\n",
      "Gamma: -0.22314355131421 Temp 0.7999999999999998\n",
      "Gamma: -0.28768207245178123 Temp 0.7499999999999998\n",
      "Gamma: -0.3566749439387328 Temp 0.6999999999999997\n",
      "Gamma: -0.4307829160924547 Temp 0.6499999999999997\n",
      "Gamma: -0.5108256237659913 Temp 0.5999999999999996\n",
      "Gamma: -0.5978370007556212 Temp 0.5499999999999996\n",
      "Gamma: -0.6931471805599461 Temp 0.4999999999999996\n",
      "Gamma: -0.7985076962177724 Temp 0.4499999999999996\n",
      "Gamma: -0.916290731874156 Temp 0.39999999999999963\n",
      "Gamma: -1.0498221244986787 Temp 0.34999999999999964\n",
      "Gamma: -1.2039728043259372 Temp 0.29999999999999966\n",
      "Gamma: -1.386294361119892 Temp 0.24999999999999967\n",
      "Gamma: -1.609437912434102 Temp 0.19999999999999968\n",
      "Gamma: -1.8971199848858833 Temp 0.1499999999999997\n",
      "Gamma: -2.302585092994049 Temp 0.09999999999999969\n",
      "Gamma: -2.9957322735539975 Temp 0.049999999999999684\n",
      "Gamma: -3.1010927892118243 Temp 0.044999999999999686\n",
      "Gamma: -3.2188758248682086 Temp 0.03999999999999969\n",
      "Gamma: -3.352407217492732 Temp 0.03499999999999969\n",
      "Gamma: -3.506557897319992 Temp 0.02999999999999969\n",
      "Gamma: -3.6888794541139487 Temp 0.02499999999999969\n",
      "Gamma: -3.9120230054281615 Temp 0.019999999999999688\n",
      "Gamma: -4.199705077879948 Temp 0.014999999999999687\n",
      "Gamma: -4.605170185988123 Temp 0.009999999999999686\n",
      "Gamma: -5.298317366548099 Temp 0.004999999999999686\n",
      "Gamma: -5.403677882205932 Temp 0.0044999999999996865\n",
      "Gamma: -5.521460917862325 Temp 0.003999999999999686\n",
      "Gamma: -5.6549923104868585 Temp 0.003499999999999686\n",
      "Gamma: -5.809142990314132 Temp 0.002999999999999686\n",
      "Gamma: -5.991464547108108 Temp 0.002499999999999686\n",
      "Gamma: -6.214608098422349 Temp 0.001999999999999686\n",
      "Gamma: -6.502290170874182 Temp 0.001499999999999686\n",
      "Gamma: -6.907755278982451 Temp 0.000999999999999686\n",
      "Gamma: -7.60090245954271 Temp 0.000499999999999686\n",
      "Gamma: -7.706262975200606 Temp 0.000449999999999686\n",
      "Gamma: -7.824046010857077 Temp 0.000399999999999686\n",
      "Gamma: -7.957577403481712 Temp 0.00034999999999968596\n",
      "Gamma: -8.11172808330912 Temp 0.00029999999999968593\n",
      "Gamma: -8.294049640103283 Temp 0.0002499999999996859\n",
      "Gamma: -8.517193191417809 Temp 0.00019999999999968592\n",
      "Gamma: -8.804875263870112 Temp 0.00014999999999968592\n",
      "Gamma: -9.210340371979324 Temp 9.999999999968592e-05\n",
      "Gamma: -9.90348755254241 Temp 4.999999999968592e-05\n",
      "Gamma: -10.008848068200933 Temp 4.499999999968592e-05\n",
      "Gamma: -10.12663110385819 Temp 3.9999999999685923e-05\n",
      "Gamma: -10.260162496483835 Temp 3.4999999999685924e-05\n",
      "Gamma: -10.414313176312588 Temp 2.9999999999685924e-05\n",
      "Gamma: -10.596634733108637 Temp 2.4999999999685925e-05\n",
      "Gamma: -10.819778284425986 Temp 1.9999999999685925e-05\n",
      "Gamma: -11.107460356883003 Temp 1.4999999999685926e-05\n",
      "Gamma: -11.512925465001636 Temp 9.999999999685926e-06\n",
      "Gamma: -12.206072645592988 Temp 4.999999999685926e-06\n",
      "Gamma: -12.311433161257794 Temp 4.499999999685925e-06\n",
      "Gamma: -12.429216196922901 Temp 3.999999999685925e-06\n",
      "Gamma: -12.562747589558642 Temp 3.499999999685925e-06\n",
      "Gamma: -12.716898269400856 Temp 2.9999999996859245e-06\n",
      "Gamma: -12.899219826215749 Temp 2.499999999685924e-06\n",
      "Gamma: -13.122363377561367 Temp 1.999999999685924e-06\n",
      "Gamma: -13.410045450065494 Temp 1.4999999996859238e-06\n",
      "Gamma: -13.81551055827835 Temp 9.999999996859237e-07\n"
     ]
    }
   ],
   "source": [
    "\n",
    "temp = 1\n",
    "FPR = []\n",
    "TPR = []\n",
    "red = 0.05\n",
    "#FPR.append(0)\n",
    "#TPR.append(0)\n",
    "min_prob_of_error = []\n",
    "while (temp>0):\n",
    "    gamma = math.log(temp)\n",
    "    print('Gamma:',gamma, 'Temp',temp)\n",
    "    classify_0 = []\n",
    "    classify_1 = []\n",
    "\n",
    "    for i in D10KV0:\n",
    "        pred0 = multivariate_normal(i[:,0],2,mean1,cov1)\n",
    "        pred1 = multivariate_normal(i[:,0],2,mean2,cov2)\n",
    "        left_side = math.log(pred1)-math.log(pred0)\n",
    "        if (left_side >gamma):\n",
    "            classify_0.append(1)\n",
    "        else:\n",
    "            classify_0.append(0)\n",
    "        \n",
    "    for i in D10KV1:\n",
    "        pred0 = multivariate_normal(i[:,0],2,mean1,cov1)\n",
    "        pred1 = multivariate_normal(i[:,0],2,mean2,cov2)\n",
    "        left_side = math.log(pred1)-math.log(pred0)\n",
    "        if (left_side >gamma):\n",
    "            classify_1.append(1)\n",
    "        else:\n",
    "            classify_1.append(0)\n",
    "        \n",
    "        \n",
    "    classify_0 = np.reshape(classify_0,(np.shape(classify_0)[0],1))\n",
    "    classify_1 = np.reshape(classify_1,(np.shape(classify_1)[0],1))\n",
    "    classify = np.vstack((classify_0,classify_1))\n",
    "    \n",
    "    df = pd.DataFrame({'x':class_final10KV[:,0], 'y':class_final10KV[:,1], 'label':lable10KV[:,0], 'classify':classify[:,0]})\n",
    "    \n",
    "    ind00 = np.where((df['label']==0) & (df['classify']==0))\n",
    "    #plt.scatter(df.loc[ind00]['x'],df.loc[ind00]['y'], marker='+',color = 'red')\n",
    "    ind10 = np.where((df['label']==0) & (df['classify']==1))\n",
    "    #plt.scatter(df.loc[ind01]['x'],df.loc[ind01]['y'], marker='+',color = 'yellow')\n",
    "    ind01 = np.where((df['label']==1) & (df['classify']==0))\n",
    "    #plt.scatter(df.loc[ind10]['x'],df.loc[ind10]['y'], marker='+',color = 'blue')\n",
    "    ind11 = np.where((df['label']==1) & (df['classify']==1))\n",
    "    #plt.scatter(df.loc[ind11]['x'],df.loc[ind11]['y'], marker='+',color = 'green')\n",
    "    \n",
    "    \n",
    "    #Setting probabilities\n",
    "    p00 = (np.shape(ind00)[1])/(np.shape(D10KV0)[0])\n",
    "    p10 = (np.shape(ind10)[1])/(np.shape(D10KV0)[0])\n",
    "    p01 = (np.shape(ind01)[1])/(np.shape(D10KV1)[0])\n",
    "    p11 = (np.shape(ind11)[1])/(np.shape(D10KV1)[0])\n",
    "    \n",
    "    FPR.append(p10)\n",
    "    TPR.append(p11)\n",
    "    if temp<red:\n",
    "        red = red/10\n",
    "    \n",
    "    temp -= red\n",
    "    if temp<0.0000005:\n",
    "        break\n",
    "        \n",
    "    min_prob_of_error.append((p10*Prior_prob[0]) + (p01*Prior_prob[1]))\n"
   ]
  },
  {
   "cell_type": "code",
   "execution_count": 38,
   "metadata": {},
   "outputs": [
    {
     "data": {
      "image/png": "[encoded data removed]",
      "text/plain": [
       "<Figure size 432x288 with 1 Axes>"
      ]
     },
     "metadata": {
      "needs_background": "light"
     },
     "output_type": "display_data"
    }
   ],
   "source": [
    "plt.plot(FPR[0:-1],TPR[0:-1], label='Rate on the basis of minimum estimated risk')\n",
    "plt.plot(new_sx,new_sy,marker='*', label='Based on Minimum Prob of error')\n",
    "plt.xlabel('FPR')\n",
    "plt.ylabel('TPR')\n",
    "plt.title('ROC curve')\n",
    "plt.legend()\n",
    "plt.show()"
   ]
  },
  {
   "cell_type": "code",
   "execution_count": 35,
   "metadata": {},
   "outputs": [
    {
     "data": {
      "text/plain": [
       "0.8812301166489925"
      ]
     },
     "execution_count": 35,
     "metadata": {},
     "output_type": "execute_result"
    }
   ],
   "source": [
    "new_sy"
   ]
  },
  {
   "cell_type": "code",
   "execution_count": 17,
   "metadata": {},
   "outputs": [
    {
     "data": {
      "text/plain": [
       "[0.02864765639461916,\n",
       " 0.03013154229645613,\n",
       " 0.03121127170198499,\n",
       " 0.03299994344759612,\n",
       " 0.03339075217155962,\n",
       " 0.035875018484908414,\n",
       " 0.037862431535587444,\n",
       " 0.03954505874249232,\n",
       " 0.042307415354926055,\n",
       " 0.0450897936258767,\n",
       " 0.04905127195489015,\n",
       " 0.053019424170075914,\n",
       " 0.05777586771936098,\n",
       " 0.06442702755296344,\n",
       " 0.07163436798473577,\n",
       " 0.08413504854549676,\n",
       " 0.10069657808780516,\n",
       " 0.13395237725581743,\n",
       " 0.1754492666979754,\n",
       " 0.23075200295618034,\n",
       " 0.23848956608148394,\n",
       " 0.24783040741967538,\n",
       " 0.2585624378933422,\n",
       " 0.2695925803246108,\n",
       " 0.28241139450149055,\n",
       " 0.2990062934746605,\n",
       " 0.3201722424643922,\n",
       " 0.34551175886054986,\n",
       " 0.3859556144418682,\n",
       " 0.3919178535939053,\n",
       " 0.39877442861874796,\n",
       " 0.40533289168598874,\n",
       " 0.4135806558463067,\n",
       " 0.42341835044716797,\n",
       " 0.43484597548857234,\n",
       " 0.4503477972838688,\n",
       " 0.4696257038754555,\n",
       " 0.5057966213978139,\n",
       " 0.50947333554157,\n",
       " 0.5150380920834714,\n",
       " 0.5200066247101689,\n",
       " 0.5268631997350116,\n",
       " 0.5346141106326598,\n",
       " 0.5440543226233853,\n",
       " 0.5573699900629349,\n",
       " 0.5736667770785029,\n",
       " 0.6007949652202716,\n",
       " 0.6044716793640278,\n",
       " 0.6087446174229878,\n",
       " 0.6141106326598211,\n",
       " 0.6207684663795959,\n",
       " 0.6271281881417688,\n",
       " 0.6343822457767473,\n",
       " 0.6425306392845314,\n",
       " 0.6563431599867506,\n",
       " 0.6776084796290163,\n",
       " 0.6807883405101027,\n",
       " 0.6839682013911892,\n",
       " 0.6885392514077509,\n",
       " 0.6931103014243126,\n",
       " 0.6988737992712819,\n",
       " 0.7040410732030473,\n",
       " 0.710997018880424]"
      ]
     },
     "execution_count": 17,
     "metadata": {},
     "output_type": "execute_result"
    }
   ],
   "source": [
    "min_prob_of_error"
   ]
  },
  {
   "cell_type": "code",
   "execution_count": 22,
   "metadata": {},
   "outputs": [],
   "source": [
    "df_test = pd.DataFrame({'x':class_final10KV[:,0], 'y':class_final10KV[:,1], 'label':lable10KV[:,0], 'classify':classify[:,0]})"
   ]
  },
  {
   "cell_type": "code",
   "execution_count": 102,
   "metadata": {},
   "outputs": [
    {
     "data": {
      "image/png": "[encoded data removed]",
      "text/plain": [
       "<Figure size 432x288 with 1 Axes>"
      ]
     },
     "metadata": {
      "needs_background": "light"
     },
     "output_type": "display_data"
    }
   ],
   "source": [
    "#plt.scatter(df[df['label']==0 and df['classify']==0])\n",
    "ind = np.where((df_test['label']==0) & (df_test['classify']==0))\n",
    "plt.scatter(df_test.loc[ind]['x'],df_test.loc[ind]['y'], marker='+',color = 'red',label='Class: 0, Prediction: 0')\n",
    "ind = np.where((df_test['label']==0) & (df_test['classify']==1))\n",
    "plt.scatter(df_test.loc[ind]['x'],df_test.loc[ind]['y'], marker='+',color = 'yellow',label='Class: 0, Prediction: 1')\n",
    "ind = np.where((df_test['label']==1) & (df_test['classify']==0))\n",
    "plt.scatter(df_test.loc[ind]['x'],df_test.loc[ind]['y'], marker='+',color = 'blue',label='Class: 1, Prediction: 0')\n",
    "ind = np.where((df_test['label']==1) & (df_test['classify']==1))\n",
    "plt.scatter(df_test.loc[ind]['x'],df_test.loc[ind]['y'], marker='+',color = 'green',label='Class: 1, Prediction: 1')\n",
    "\n",
    "\n",
    "plt.axis('equal')\n",
    "plt.title('Scatter plot of samples with their predictions',fontsize=15)\n",
    "plt.xlabel('x',fontsize=20)\n",
    "plt.ylim(-9,6)\n",
    "plt.ylabel('y',fontsize=20)\n",
    "plt.legend()\n",
    "plt.show()"
   ]
  },
  {
   "cell_type": "markdown",
   "metadata": {},
   "source": [
    "### Part 2\n"
   ]
  },
  {
   "cell_type": "code",
   "execution_count": 42,
   "metadata": {},
   "outputs": [],
   "source": [
    "def sigmoid(x):\n",
    "    return (1 / (1 + np.exp(-x)))"
   ]
  },
  {
   "cell_type": "markdown",
   "metadata": {},
   "source": [
    "### Data 10"
   ]
  },
  {
   "cell_type": "code",
   "execution_count": 43,
   "metadata": {},
   "outputs": [],
   "source": [
    "df10 = df10.sample(frac=1).reset_index(drop=True)\n",
    "df10.drop_duplicates(inplace=True)"
   ]
  },
  {
   "cell_type": "code",
   "execution_count": 44,
   "metadata": {},
   "outputs": [
    {
     "data": {
      "text/html": [
       "<div>\n",
       "<style scoped>\n",
       "    .dataframe tbody tr th:only-of-type {\n",
       "        vertical-align: middle;\n",
       "    }\n",
       "\n",
       "    .dataframe tbody tr th {\n",
       "        vertical-align: top;\n",
       "    }\n",
       "\n",
       "    .dataframe thead th {\n",
       "        text-align: right;\n",
       "    }\n",
       "</style>\n",
       "<table border=\"1\" class=\"dataframe\">\n",
       "  <thead>\n",
       "    <tr style=\"text-align: right;\">\n",
       "      <th></th>\n",
       "      <th>x</th>\n",
       "      <th>y</th>\n",
       "      <th>label</th>\n",
       "    </tr>\n",
       "  </thead>\n",
       "  <tbody>\n",
       "    <tr>\n",
       "      <td>0</td>\n",
       "      <td>-2.762181</td>\n",
       "      <td>-0.395692</td>\n",
       "      <td>0.0</td>\n",
       "    </tr>\n",
       "    <tr>\n",
       "      <td>1</td>\n",
       "      <td>-2.214886</td>\n",
       "      <td>1.438367</td>\n",
       "      <td>0.0</td>\n",
       "    </tr>\n",
       "    <tr>\n",
       "      <td>2</td>\n",
       "      <td>-1.889435</td>\n",
       "      <td>-0.406146</td>\n",
       "      <td>0.0</td>\n",
       "    </tr>\n",
       "    <tr>\n",
       "      <td>3</td>\n",
       "      <td>-1.826137</td>\n",
       "      <td>-0.973044</td>\n",
       "      <td>0.0</td>\n",
       "    </tr>\n",
       "    <tr>\n",
       "      <td>4</td>\n",
       "      <td>-2.203626</td>\n",
       "      <td>-1.167186</td>\n",
       "      <td>0.0</td>\n",
       "    </tr>\n",
       "    <tr>\n",
       "      <td>5</td>\n",
       "      <td>-1.762307</td>\n",
       "      <td>-0.151965</td>\n",
       "      <td>0.0</td>\n",
       "    </tr>\n",
       "    <tr>\n",
       "      <td>6</td>\n",
       "      <td>-2.300180</td>\n",
       "      <td>1.054863</td>\n",
       "      <td>0.0</td>\n",
       "    </tr>\n",
       "    <tr>\n",
       "      <td>7</td>\n",
       "      <td>-2.726211</td>\n",
       "      <td>1.561317</td>\n",
       "      <td>0.0</td>\n",
       "    </tr>\n",
       "    <tr>\n",
       "      <td>8</td>\n",
       "      <td>-1.912593</td>\n",
       "      <td>1.014637</td>\n",
       "      <td>0.0</td>\n",
       "    </tr>\n",
       "    <tr>\n",
       "      <td>9</td>\n",
       "      <td>2.647012</td>\n",
       "      <td>0.177464</td>\n",
       "      <td>1.0</td>\n",
       "    </tr>\n",
       "  </tbody>\n",
       "</table>\n",
       "</div>"
      ],
      "text/plain": [
       "          x         y  label\n",
       "0 -2.762181 -0.395692    0.0\n",
       "1 -2.214886  1.438367    0.0\n",
       "2 -1.889435 -0.406146    0.0\n",
       "3 -1.826137 -0.973044    0.0\n",
       "4 -2.203626 -1.167186    0.0\n",
       "5 -1.762307 -0.151965    0.0\n",
       "6 -2.300180  1.054863    0.0\n",
       "7 -2.726211  1.561317    0.0\n",
       "8 -1.912593  1.014637    0.0\n",
       "9  2.647012  0.177464    1.0"
      ]
     },
     "execution_count": 44,
     "metadata": {},
     "output_type": "execute_result"
    }
   ],
   "source": [
    "df10.head(10)"
   ]
  },
  {
   "cell_type": "code",
   "execution_count": 45,
   "metadata": {},
   "outputs": [],
   "source": [
    "a = np.random.uniform(0,1)\n",
    "b = np.random.uniform(0,1)\n",
    "c = np.random.uniform(0,1)\n",
    "theta10 = np.array([a,b,c])"
   ]
  },
  {
   "cell_type": "code",
   "execution_count": 46,
   "metadata": {},
   "outputs": [],
   "source": [
    "grad = np.zeros((2,1))\n",
    "learn = 0.01\n",
    "loss = []\n",
    "for i in range(20):\n",
    "    y_pred = (theta10[0]*df10['x'])+(theta10[1]*df10['y'])+theta10[2]\n",
    "    y_pred = sigmoid(y_pred)\n",
    "    for i in range(2):\n",
    "        grad[i,0] = np.sum(np.multiply(df10.iloc[:,i],(df10.iloc[:,2]-y_pred)))\n",
    "    theta10[0] += learn*grad[0,0]\n",
    "    theta10[1] += learn*grad[1,0]\n",
    "    loss.append(-1*np.sum((df10.iloc[:,2]-y_pred)))"
   ]
  },
  {
   "cell_type": "code",
   "execution_count": 47,
   "metadata": {},
   "outputs": [],
   "source": [
    "y_pred = (theta10[0]*df10['x'])+(theta10[1]*df10['y'])+theta10[2]\n",
    "y_pred = sigmoid(y_pred)"
   ]
  },
  {
   "cell_type": "code",
   "execution_count": 48,
   "metadata": {},
   "outputs": [],
   "source": [
    "classify = []\n",
    "for i in y_pred:\n",
    "    if i>0.5:\n",
    "        classify.append(1)\n",
    "    else:\n",
    "        classify.append(0)"
   ]
  },
  {
   "cell_type": "code",
   "execution_count": 49,
   "metadata": {},
   "outputs": [],
   "source": [
    "df10['classify'] = classify"
   ]
  },
  {
   "cell_type": "code",
   "execution_count": 50,
   "metadata": {},
   "outputs": [
    {
     "data": {
      "text/html": [
       "<div>\n",
       "<style scoped>\n",
       "    .dataframe tbody tr th:only-of-type {\n",
       "        vertical-align: middle;\n",
       "    }\n",
       "\n",
       "    .dataframe tbody tr th {\n",
       "        vertical-align: top;\n",
       "    }\n",
       "\n",
       "    .dataframe thead th {\n",
       "        text-align: right;\n",
       "    }\n",
       "</style>\n",
       "<table border=\"1\" class=\"dataframe\">\n",
       "  <thead>\n",
       "    <tr style=\"text-align: right;\">\n",
       "      <th></th>\n",
       "      <th>x</th>\n",
       "      <th>y</th>\n",
       "      <th>label</th>\n",
       "      <th>classify</th>\n",
       "    </tr>\n",
       "  </thead>\n",
       "  <tbody>\n",
       "    <tr>\n",
       "      <td>0</td>\n",
       "      <td>-2.762181</td>\n",
       "      <td>-0.395692</td>\n",
       "      <td>0.0</td>\n",
       "      <td>0</td>\n",
       "    </tr>\n",
       "    <tr>\n",
       "      <td>1</td>\n",
       "      <td>-2.214886</td>\n",
       "      <td>1.438367</td>\n",
       "      <td>0.0</td>\n",
       "      <td>0</td>\n",
       "    </tr>\n",
       "    <tr>\n",
       "      <td>2</td>\n",
       "      <td>-1.889435</td>\n",
       "      <td>-0.406146</td>\n",
       "      <td>0.0</td>\n",
       "      <td>0</td>\n",
       "    </tr>\n",
       "    <tr>\n",
       "      <td>3</td>\n",
       "      <td>-1.826137</td>\n",
       "      <td>-0.973044</td>\n",
       "      <td>0.0</td>\n",
       "      <td>0</td>\n",
       "    </tr>\n",
       "    <tr>\n",
       "      <td>4</td>\n",
       "      <td>-2.203626</td>\n",
       "      <td>-1.167186</td>\n",
       "      <td>0.0</td>\n",
       "      <td>0</td>\n",
       "    </tr>\n",
       "    <tr>\n",
       "      <td>5</td>\n",
       "      <td>-1.762307</td>\n",
       "      <td>-0.151965</td>\n",
       "      <td>0.0</td>\n",
       "      <td>0</td>\n",
       "    </tr>\n",
       "    <tr>\n",
       "      <td>6</td>\n",
       "      <td>-2.300180</td>\n",
       "      <td>1.054863</td>\n",
       "      <td>0.0</td>\n",
       "      <td>0</td>\n",
       "    </tr>\n",
       "    <tr>\n",
       "      <td>7</td>\n",
       "      <td>-2.726211</td>\n",
       "      <td>1.561317</td>\n",
       "      <td>0.0</td>\n",
       "      <td>0</td>\n",
       "    </tr>\n",
       "    <tr>\n",
       "      <td>8</td>\n",
       "      <td>-1.912593</td>\n",
       "      <td>1.014637</td>\n",
       "      <td>0.0</td>\n",
       "      <td>0</td>\n",
       "    </tr>\n",
       "    <tr>\n",
       "      <td>9</td>\n",
       "      <td>2.647012</td>\n",
       "      <td>0.177464</td>\n",
       "      <td>1.0</td>\n",
       "      <td>1</td>\n",
       "    </tr>\n",
       "  </tbody>\n",
       "</table>\n",
       "</div>"
      ],
      "text/plain": [
       "          x         y  label  classify\n",
       "0 -2.762181 -0.395692    0.0         0\n",
       "1 -2.214886  1.438367    0.0         0\n",
       "2 -1.889435 -0.406146    0.0         0\n",
       "3 -1.826137 -0.973044    0.0         0\n",
       "4 -2.203626 -1.167186    0.0         0\n",
       "5 -1.762307 -0.151965    0.0         0\n",
       "6 -2.300180  1.054863    0.0         0\n",
       "7 -2.726211  1.561317    0.0         0\n",
       "8 -1.912593  1.014637    0.0         0\n",
       "9  2.647012  0.177464    1.0         1"
      ]
     },
     "execution_count": 50,
     "metadata": {},
     "output_type": "execute_result"
    }
   ],
   "source": [
    "df10.head(10)"
   ]
  },
  {
   "cell_type": "code",
   "execution_count": 51,
   "metadata": {},
   "outputs": [
    {
     "data": {
      "image/png": "[encoded data removed]",
      "text/plain": [
       "<Figure size 432x288 with 1 Axes>"
      ]
     },
     "metadata": {
      "needs_background": "light"
     },
     "output_type": "display_data"
    }
   ],
   "source": [
    "axis = np.linspace(0,20,len(loss))\n",
    "plt.plot(axis,loss)\n",
    "plt.xlabel('Iteration')\n",
    "plt.ylabel('Loss')\n",
    "plt.title('Iterations VS Loss curve')\n",
    "plt.show()"
   ]
  },
  {
   "cell_type": "markdown",
   "metadata": {},
   "source": [
    "### Data 100"
   ]
  },
  {
   "cell_type": "code",
   "execution_count": 52,
   "metadata": {},
   "outputs": [],
   "source": [
    "df100 = df100.sample(frac=1).reset_index(drop=True)\n",
    "df100.drop_duplicates(inplace=True)"
   ]
  },
  {
   "cell_type": "code",
   "execution_count": 53,
   "metadata": {},
   "outputs": [],
   "source": [
    "a = np.random.uniform(0,1)\n",
    "b = np.random.uniform(0,1)\n",
    "c = np.random.uniform(0,1)\n",
    "theta100 = np.array([a,b,c])"
   ]
  },
  {
   "cell_type": "code",
   "execution_count": 54,
   "metadata": {},
   "outputs": [],
   "source": [
    "grad = np.zeros((2,1))\n",
    "learn = 0.01\n",
    "loss = []\n",
    "for i in range(20):\n",
    "    y_pred = (theta100[0]*df100['x'])+(theta100[1]*df100['y'])+theta100[2]\n",
    "    y_pred = sigmoid(y_pred)\n",
    "    for i in range(2):\n",
    "        grad[i,0] = np.sum(np.multiply(df100.iloc[:,i],(df100.iloc[:,2]-y_pred)))\n",
    "    theta100[0] += learn*grad[0,0]\n",
    "    theta100[1] += learn*grad[1,0]\n",
    "    loss.append(-1*np.sum((df100.iloc[:,2]-y_pred)))"
   ]
  },
  {
   "cell_type": "code",
   "execution_count": 55,
   "metadata": {},
   "outputs": [],
   "source": [
    "y_pred = (theta100[0]*df100['x'])+(theta100[1]*df100['y'])+theta100[2]\n",
    "y_pred = sigmoid(y_pred)"
   ]
  },
  {
   "cell_type": "code",
   "execution_count": 56,
   "metadata": {},
   "outputs": [],
   "source": [
    "classify = []\n",
    "for i in y_pred:\n",
    "    if i>0.5:\n",
    "        classify.append(1)\n",
    "    else:\n",
    "        classify.append(0)"
   ]
  },
  {
   "cell_type": "code",
   "execution_count": 57,
   "metadata": {},
   "outputs": [],
   "source": [
    "df100['classify'] = classify"
   ]
  },
  {
   "cell_type": "code",
   "execution_count": 59,
   "metadata": {},
   "outputs": [
    {
     "data": {
      "image/png": "[encoded data removed]",
      "text/plain": [
       "<Figure size 432x288 with 1 Axes>"
      ]
     },
     "metadata": {
      "needs_background": "light"
     },
     "output_type": "display_data"
    }
   ],
   "source": [
    "axis = np.linspace(0,20,len(loss))\n",
    "plt.plot(axis,loss)\n",
    "plt.xlabel('Iteration')\n",
    "plt.ylabel('Loss')\n",
    "plt.title('Iterations VS Loss curve')\n",
    "plt.show()"
   ]
  },
  {
   "cell_type": "markdown",
   "metadata": {},
   "source": [
    "### Data 1000"
   ]
  },
  {
   "cell_type": "code",
   "execution_count": 60,
   "metadata": {},
   "outputs": [],
   "source": [
    "df1000 = df1000.sample(frac=1).reset_index(drop=True)\n",
    "df1000.drop_duplicates(inplace=True)"
   ]
  },
  {
   "cell_type": "code",
   "execution_count": 61,
   "metadata": {},
   "outputs": [],
   "source": [
    "a = np.random.uniform(0,1)\n",
    "b = np.random.uniform(0,1)\n",
    "c = np.random.uniform(0,1)\n",
    "theta1000 = np.array([a,b,c])"
   ]
  },
  {
   "cell_type": "code",
   "execution_count": 62,
   "metadata": {},
   "outputs": [],
   "source": [
    "grad = np.zeros((2,1))\n",
    "learn = 0.01\n",
    "loss = []\n",
    "for i in range(20):\n",
    "    y_pred = (theta1000[0]*df1000['x'])+(theta1000[1]*df1000['y'])+theta1000[2]\n",
    "    y_pred = sigmoid(y_pred)\n",
    "    for i in range(2):\n",
    "        grad[i,0] = np.sum(np.multiply(df1000.iloc[:,i],(df1000.iloc[:,2]-y_pred)))\n",
    "    theta1000[0] += learn*grad[0,0]\n",
    "    theta1000[1] += learn*grad[1,0]\n",
    "    loss.append(-1*np.sum((df1000.iloc[:,2]-y_pred)))"
   ]
  },
  {
   "cell_type": "code",
   "execution_count": 63,
   "metadata": {},
   "outputs": [],
   "source": [
    "y_pred = (theta1000[0]*df1000['x'])+(theta1000[1]*df1000['y'])+theta1000[2]\n",
    "y_pred = sigmoid(y_pred)"
   ]
  },
  {
   "cell_type": "code",
   "execution_count": 64,
   "metadata": {},
   "outputs": [],
   "source": [
    "classify = []\n",
    "for i in y_pred:\n",
    "    if i>0.5:\n",
    "        classify.append(1)\n",
    "    else:\n",
    "        classify.append(0)"
   ]
  },
  {
   "cell_type": "code",
   "execution_count": 65,
   "metadata": {},
   "outputs": [],
   "source": [
    "df1000['classify'] = classify"
   ]
  },
  {
   "cell_type": "code",
   "execution_count": 71,
   "metadata": {},
   "outputs": [
    {
     "data": {
      "image/png": "[encoded data removed]",
      "text/plain": [
       "<Figure size 432x288 with 1 Axes>"
      ]
     },
     "metadata": {
      "needs_background": "light"
     },
     "output_type": "display_data"
    }
   ],
   "source": [
    "axis = np.linspace(0,20,len(loss))\n",
    "plt.plot(axis,loss)\n",
    "plt.xlabel('Iteration')\n",
    "plt.ylabel('Loss')\n",
    "plt.title('Iterations VS Loss curve')\n",
    "plt.show()"
   ]
  },
  {
   "cell_type": "markdown",
   "metadata": {},
   "source": [
    "### Validation data 10"
   ]
  },
  {
   "cell_type": "code",
   "execution_count": 104,
   "metadata": {},
   "outputs": [],
   "source": [
    "y_pred = (theta10[0]*df10KV['x'])+(theta10[1]*df10KV['y'])+theta10[2]\n",
    "y_pred = sigmoid(y_pred)"
   ]
  },
  {
   "cell_type": "code",
   "execution_count": 105,
   "metadata": {},
   "outputs": [],
   "source": [
    "classify = []\n",
    "for i in y_pred:\n",
    "    if i>0.5:\n",
    "        classify.append(1)\n",
    "    else:\n",
    "        classify.append(0)"
   ]
  },
  {
   "cell_type": "code",
   "execution_count": 106,
   "metadata": {},
   "outputs": [],
   "source": [
    "df10KV['Validate_10_classify'] = classify"
   ]
  },
  {
   "cell_type": "code",
   "execution_count": 107,
   "metadata": {},
   "outputs": [
    {
     "data": {
      "image/png": "[encoded data removed]",
      "text/plain": [
       "<Figure size 432x288 with 1 Axes>"
      ]
     },
     "metadata": {
      "needs_background": "light"
     },
     "output_type": "display_data"
    }
   ],
   "source": [
    "#plt.scatter(df[df['label']==0 and df['classify']==0])\n",
    "ind = np.where((df10KV['label']==0) & (df10KV['Validate_10_classify']==0))\n",
    "plt.scatter(df10KV.loc[ind]['x'],df10KV.loc[ind]['y'], marker='+',color = 'red',label='Class: 0, Prediction: 0')\n",
    "ind = np.where((df10KV['label']==0) & (df10KV['Validate_10_classify']==1))\n",
    "plt.scatter(df10KV.loc[ind]['x'],df10KV.loc[ind]['y'], marker='+',color = 'yellow',label='Class: 0, Prediction: 1')\n",
    "ind = np.where((df10KV['label']==1) & (df10KV['Validate_10_classify']==0))\n",
    "plt.scatter(df10KV.loc[ind]['x'],df10KV.loc[ind]['y'], marker='+',color = 'blue',label='Class: 1, Prediction: 0')\n",
    "ind = np.where((df10KV['label']==1) & (df10KV['Validate_10_classify']==1))\n",
    "plt.scatter(df10KV.loc[ind]['x'],df10KV.loc[ind]['y'], marker='+',color = 'green',label='Class: 1, Prediction: 1')\n",
    "\n",
    "\n",
    "plt.axis('equal')\n",
    "plt.title('Scatter plot of samples with their predictions',fontsize=15)\n",
    "plt.xlabel('x',fontsize=20)\n",
    "plt.ylim(-9,6)\n",
    "plt.ylabel('y',fontsize=20)\n",
    "plt.legend()\n",
    "plt.show()"
   ]
  },
  {
   "cell_type": "code",
   "execution_count": 108,
   "metadata": {},
   "outputs": [
    {
     "name": "stdout",
     "output_type": "stream",
     "text": [
      "600\n"
     ]
    }
   ],
   "source": [
    "ind1 = np.where((df10KV['label']==0) & (df10KV['Validate_10_classify']==1))\n",
    "ind2 = np.where((df10KV['label']==1) & (df10KV['Validate_10_classify']==0)) \n",
    "print(np.shape(ind1)[-1]+np.shape(ind2)[-1])"
   ]
  },
  {
   "cell_type": "markdown",
   "metadata": {},
   "source": [
    "### Validation 100 data"
   ]
  },
  {
   "cell_type": "code",
   "execution_count": 109,
   "metadata": {},
   "outputs": [],
   "source": [
    "y_pred = (theta100[0]*df10KV['x'])+(theta100[1]*df10KV['y'])+theta100[2]\n",
    "y_pred = sigmoid(y_pred)"
   ]
  },
  {
   "cell_type": "code",
   "execution_count": 110,
   "metadata": {},
   "outputs": [],
   "source": [
    "classify = []\n",
    "for i in y_pred:\n",
    "    if i>0.5:\n",
    "        classify.append(1)\n",
    "    else:\n",
    "        classify.append(0)"
   ]
  },
  {
   "cell_type": "code",
   "execution_count": 111,
   "metadata": {},
   "outputs": [],
   "source": [
    "df10KV['Validate_100_classify'] = classify"
   ]
  },
  {
   "cell_type": "code",
   "execution_count": 112,
   "metadata": {},
   "outputs": [
    {
     "data": {
      "image/png": "[encoded data removed]",
      "text/plain": [
       "<Figure size 432x288 with 1 Axes>"
      ]
     },
     "metadata": {
      "needs_background": "light"
     },
     "output_type": "display_data"
    }
   ],
   "source": [
    "#plt.scatter(df[df['label']==0 and df['classify']==0])\n",
    "ind = np.where((df10KV['label']==0) & (df10KV['Validate_100_classify']==0))\n",
    "plt.scatter(df10KV.loc[ind]['x'],df10KV.loc[ind]['y'], marker='+',color = 'red',label='Class: 0, Prediction: 0')\n",
    "ind = np.where((df10KV['label']==0) & (df10KV['Validate_100_classify']==1))\n",
    "plt.scatter(df10KV.loc[ind]['x'],df10KV.loc[ind]['y'], marker='+',color = 'yellow',label='Class: 0, Prediction: 1')\n",
    "ind = np.where((df10KV['label']==1) & (df10KV['Validate_100_classify']==0))\n",
    "plt.scatter(df10KV.loc[ind]['x'],df10KV.loc[ind]['y'], marker='+',color = 'blue',label='Class: 1, Prediction: 0')\n",
    "ind = np.where((df10KV['label']==1) & (df10KV['Validate_100_classify']==1))\n",
    "plt.scatter(df10KV.loc[ind]['x'],df10KV.loc[ind]['y'], marker='+',color = 'green',label='Class: 1, Prediction: 1')\n",
    "\n",
    "\n",
    "plt.axis('equal')\n",
    "plt.title('Scatter plot of samples with their predictions',fontsize=15)\n",
    "plt.xlabel('x',fontsize=20)\n",
    "plt.ylim(-9,6)\n",
    "plt.ylabel('y',fontsize=20)\n",
    "plt.legend()\n",
    "plt.show()"
   ]
  },
  {
   "cell_type": "code",
   "execution_count": 113,
   "metadata": {},
   "outputs": [
    {
     "name": "stdout",
     "output_type": "stream",
     "text": [
      "229\n"
     ]
    }
   ],
   "source": [
    "ind1 = np.where((df10KV['label']==0) & (df10KV['Validate_100_classify']==1))\n",
    "ind2 = np.where((df10KV['label']==1) & (df10KV['Validate_100_classify']==0)) \n",
    "print(np.shape(ind1)[-1]+np.shape(ind2)[-1])"
   ]
  },
  {
   "cell_type": "markdown",
   "metadata": {},
   "source": [
    "### Validate 1000 data"
   ]
  },
  {
   "cell_type": "code",
   "execution_count": 114,
   "metadata": {},
   "outputs": [],
   "source": [
    "y_pred = (theta1000[0]*df10KV['x'])+(theta1000[1]*df10KV['y'])+theta1000[2]\n",
    "y_pred = sigmoid(y_pred)"
   ]
  },
  {
   "cell_type": "code",
   "execution_count": 115,
   "metadata": {},
   "outputs": [],
   "source": [
    "classify = []\n",
    "for i in y_pred:\n",
    "    if i>0.5:\n",
    "        classify.append(1)\n",
    "    else:\n",
    "        classify.append(0)"
   ]
  },
  {
   "cell_type": "code",
   "execution_count": 116,
   "metadata": {},
   "outputs": [],
   "source": [
    "df10KV['Validate_1000_classify'] = classify"
   ]
  },
  {
   "cell_type": "code",
   "execution_count": 117,
   "metadata": {},
   "outputs": [
    {
     "data": {
      "image/png": "[encoded data removed]",
      "text/plain": [
       "<Figure size 432x288 with 1 Axes>"
      ]
     },
     "metadata": {
      "needs_background": "light"
     },
     "output_type": "display_data"
    }
   ],
   "source": [
    "#plt.scatter(df[df['label']==0 and df['classify']==0])\n",
    "ind = np.where((df10KV['label']==0) & (df10KV['Validate_1000_classify']==0))\n",
    "plt.scatter(df10KV.loc[ind]['x'],df10KV.loc[ind]['y'], marker='+',color = 'red',label='Class: 0, Prediction: 0')\n",
    "ind = np.where((df10KV['label']==0) & (df10KV['Validate_1000_classify']==1))\n",
    "plt.scatter(df10KV.loc[ind]['x'],df10KV.loc[ind]['y'], marker='+',color = 'yellow',label='Class: 0, Prediction: 1')\n",
    "ind = np.where((df10KV['label']==1) & (df10KV['Validate_1000_classify']==0))\n",
    "plt.scatter(df10KV.loc[ind]['x'],df10KV.loc[ind]['y'], marker='+',color = 'blue',label='Class: 1, Prediction: 0')\n",
    "ind = np.where((df10KV['label']==1) & (df10KV['Validate_1000_classify']==1))\n",
    "plt.scatter(df10KV.loc[ind]['x'],df10KV.loc[ind]['y'], marker='+',color = 'green',label='Class: 1, Prediction: 1')\n",
    "\n",
    "\n",
    "plt.axis('equal')\n",
    "plt.title('Scatter plot of samples with their predictions',fontsize=15)\n",
    "plt.xlabel('x',fontsize=20)\n",
    "plt.ylim(-9,6)\n",
    "plt.ylabel('y',fontsize=20)\n",
    "plt.legend()\n",
    "plt.show()"
   ]
  },
  {
   "cell_type": "code",
   "execution_count": 118,
   "metadata": {},
   "outputs": [
    {
     "name": "stdout",
     "output_type": "stream",
     "text": [
      "286\n"
     ]
    }
   ],
   "source": [
    "ind1 = np.where((df10KV['label']==0) & (df10KV['Validate_1000_classify']==1))\n",
    "ind2 = np.where((df10KV['label']==1) & (df10KV['Validate_1000_classify']==0)) \n",
    "print(np.shape(ind1)[-1]+np.shape(ind2)[-1])"
   ]
  },
  {
   "cell_type": "markdown",
   "metadata": {},
   "source": [
    "## Part 3\n",
    "\n",
    "#### Stacking data"
   ]
  },
  {
   "cell_type": "code",
   "execution_count": 134,
   "metadata": {},
   "outputs": [
    {
     "data": {
      "text/html": [
       "<div>\n",
       "<style scoped>\n",
       "    .dataframe tbody tr th:only-of-type {\n",
       "        vertical-align: middle;\n",
       "    }\n",
       "\n",
       "    .dataframe tbody tr th {\n",
       "        vertical-align: top;\n",
       "    }\n",
       "\n",
       "    .dataframe thead th {\n",
       "        text-align: right;\n",
       "    }\n",
       "</style>\n",
       "<table border=\"1\" class=\"dataframe\">\n",
       "  <thead>\n",
       "    <tr style=\"text-align: right;\">\n",
       "      <th></th>\n",
       "      <th>x</th>\n",
       "      <th>y</th>\n",
       "      <th>label</th>\n",
       "      <th>classify</th>\n",
       "      <th>x2</th>\n",
       "      <th>y2</th>\n",
       "      <th>xy</th>\n",
       "    </tr>\n",
       "  </thead>\n",
       "  <tbody>\n",
       "    <tr>\n",
       "      <td>0</td>\n",
       "      <td>-1.000000</td>\n",
       "      <td>-0.253435</td>\n",
       "      <td>0.0</td>\n",
       "      <td>0</td>\n",
       "      <td>1.000000</td>\n",
       "      <td>0.064229</td>\n",
       "      <td>0.256779</td>\n",
       "    </tr>\n",
       "    <tr>\n",
       "      <td>1</td>\n",
       "      <td>-0.801861</td>\n",
       "      <td>0.921252</td>\n",
       "      <td>0.0</td>\n",
       "      <td>0</td>\n",
       "      <td>0.642982</td>\n",
       "      <td>0.848706</td>\n",
       "      <td>-0.748463</td>\n",
       "    </tr>\n",
       "    <tr>\n",
       "      <td>2</td>\n",
       "      <td>-0.684037</td>\n",
       "      <td>-0.260130</td>\n",
       "      <td>0.0</td>\n",
       "      <td>0</td>\n",
       "      <td>0.467907</td>\n",
       "      <td>0.067668</td>\n",
       "      <td>0.180287</td>\n",
       "    </tr>\n",
       "    <tr>\n",
       "      <td>3</td>\n",
       "      <td>-0.661122</td>\n",
       "      <td>-0.623220</td>\n",
       "      <td>0.0</td>\n",
       "      <td>0</td>\n",
       "      <td>0.437082</td>\n",
       "      <td>0.388403</td>\n",
       "      <td>0.417460</td>\n",
       "    </tr>\n",
       "    <tr>\n",
       "      <td>4</td>\n",
       "      <td>-0.797785</td>\n",
       "      <td>-0.747565</td>\n",
       "      <td>0.0</td>\n",
       "      <td>0</td>\n",
       "      <td>0.636461</td>\n",
       "      <td>0.558853</td>\n",
       "      <td>0.604265</td>\n",
       "    </tr>\n",
       "    <tr>\n",
       "      <td>5</td>\n",
       "      <td>-0.638013</td>\n",
       "      <td>-0.097331</td>\n",
       "      <td>0.0</td>\n",
       "      <td>0</td>\n",
       "      <td>0.407061</td>\n",
       "      <td>0.009473</td>\n",
       "      <td>0.062918</td>\n",
       "    </tr>\n",
       "    <tr>\n",
       "      <td>6</td>\n",
       "      <td>-0.832741</td>\n",
       "      <td>0.675624</td>\n",
       "      <td>0.0</td>\n",
       "      <td>0</td>\n",
       "      <td>0.693457</td>\n",
       "      <td>0.456467</td>\n",
       "      <td>-0.570042</td>\n",
       "    </tr>\n",
       "    <tr>\n",
       "      <td>7</td>\n",
       "      <td>-0.986978</td>\n",
       "      <td>1.000000</td>\n",
       "      <td>0.0</td>\n",
       "      <td>0</td>\n",
       "      <td>0.974125</td>\n",
       "      <td>1.000000</td>\n",
       "      <td>-1.000000</td>\n",
       "    </tr>\n",
       "    <tr>\n",
       "      <td>8</td>\n",
       "      <td>-0.692421</td>\n",
       "      <td>0.649860</td>\n",
       "      <td>0.0</td>\n",
       "      <td>0</td>\n",
       "      <td>0.479447</td>\n",
       "      <td>0.422318</td>\n",
       "      <td>-0.455914</td>\n",
       "    </tr>\n",
       "    <tr>\n",
       "      <td>9</td>\n",
       "      <td>0.958305</td>\n",
       "      <td>0.113663</td>\n",
       "      <td>1.0</td>\n",
       "      <td>1</td>\n",
       "      <td>0.918349</td>\n",
       "      <td>0.012919</td>\n",
       "      <td>0.110361</td>\n",
       "    </tr>\n",
       "  </tbody>\n",
       "</table>\n",
       "</div>"
      ],
      "text/plain": [
       "          x         y  label  classify        x2        y2        xy\n",
       "0 -1.000000 -0.253435    0.0         0  1.000000  0.064229  0.256779\n",
       "1 -0.801861  0.921252    0.0         0  0.642982  0.848706 -0.748463\n",
       "2 -0.684037 -0.260130    0.0         0  0.467907  0.067668  0.180287\n",
       "3 -0.661122 -0.623220    0.0         0  0.437082  0.388403  0.417460\n",
       "4 -0.797785 -0.747565    0.0         0  0.636461  0.558853  0.604265\n",
       "5 -0.638013 -0.097331    0.0         0  0.407061  0.009473  0.062918\n",
       "6 -0.832741  0.675624    0.0         0  0.693457  0.456467 -0.570042\n",
       "7 -0.986978  1.000000    0.0         0  0.974125  1.000000 -1.000000\n",
       "8 -0.692421  0.649860    0.0         0  0.479447  0.422318 -0.455914\n",
       "9  0.958305  0.113663    1.0         1  0.918349  0.012919  0.110361"
      ]
     },
     "execution_count": 134,
     "metadata": {},
     "output_type": "execute_result"
    }
   ],
   "source": [
    "df10['x2'] = df10['x']*df10['x']\n",
    "df10['y2'] = df10['y']*df10['y']\n",
    "df10['xy'] = df10['x']*df10['y']\n",
    "#df10 = df10.drop(columns=['classify'], axis=1)\n",
    "check = df10.abs()\n",
    "df10['x'] = (df10['x'])/(check.max()['x'])\n",
    "df10['y'] = (df10['y'])/(check.max()['y'])\n",
    "df10['x2'] = (df10['x2'])/(check.max()['x2'])\n",
    "df10['xy'] = (df10['xy'])/(check.max()['xy'])\n",
    "df10['y2'] = (df10['y2'])/(check.max()['y2'])\n",
    "df10.head(20)"
   ]
  },
  {
   "cell_type": "code",
   "execution_count": 135,
   "metadata": {},
   "outputs": [
    {
     "data": {
      "text/html": [
       "<div>\n",
       "<style scoped>\n",
       "    .dataframe tbody tr th:only-of-type {\n",
       "        vertical-align: middle;\n",
       "    }\n",
       "\n",
       "    .dataframe tbody tr th {\n",
       "        vertical-align: top;\n",
       "    }\n",
       "\n",
       "    .dataframe thead th {\n",
       "        text-align: right;\n",
       "    }\n",
       "</style>\n",
       "<table border=\"1\" class=\"dataframe\">\n",
       "  <thead>\n",
       "    <tr style=\"text-align: right;\">\n",
       "      <th></th>\n",
       "      <th>x</th>\n",
       "      <th>y</th>\n",
       "      <th>label</th>\n",
       "      <th>classify</th>\n",
       "      <th>x2</th>\n",
       "      <th>y2</th>\n",
       "      <th>xy</th>\n",
       "    </tr>\n",
       "  </thead>\n",
       "  <tbody>\n",
       "    <tr>\n",
       "      <td>0</td>\n",
       "      <td>-0.869766</td>\n",
       "      <td>0.632082</td>\n",
       "      <td>0.0</td>\n",
       "      <td>0</td>\n",
       "      <td>0.756494</td>\n",
       "      <td>3.995283e-01</td>\n",
       "      <td>-0.601816</td>\n",
       "    </tr>\n",
       "    <tr>\n",
       "      <td>1</td>\n",
       "      <td>-0.114108</td>\n",
       "      <td>-0.822787</td>\n",
       "      <td>0.0</td>\n",
       "      <td>0</td>\n",
       "      <td>0.013021</td>\n",
       "      <td>6.769780e-01</td>\n",
       "      <td>0.102776</td>\n",
       "    </tr>\n",
       "    <tr>\n",
       "      <td>2</td>\n",
       "      <td>-0.673881</td>\n",
       "      <td>0.672465</td>\n",
       "      <td>0.0</td>\n",
       "      <td>0</td>\n",
       "      <td>0.454116</td>\n",
       "      <td>4.522094e-01</td>\n",
       "      <td>-0.496067</td>\n",
       "    </tr>\n",
       "    <tr>\n",
       "      <td>3</td>\n",
       "      <td>-0.418775</td>\n",
       "      <td>-0.192395</td>\n",
       "      <td>0.0</td>\n",
       "      <td>0</td>\n",
       "      <td>0.175373</td>\n",
       "      <td>3.701600e-02</td>\n",
       "      <td>0.088199</td>\n",
       "    </tr>\n",
       "    <tr>\n",
       "      <td>4</td>\n",
       "      <td>0.689122</td>\n",
       "      <td>0.778023</td>\n",
       "      <td>1.0</td>\n",
       "      <td>1</td>\n",
       "      <td>0.474889</td>\n",
       "      <td>6.053200e-01</td>\n",
       "      <td>0.586916</td>\n",
       "    </tr>\n",
       "    <tr>\n",
       "      <td>5</td>\n",
       "      <td>-0.667860</td>\n",
       "      <td>0.515720</td>\n",
       "      <td>0.0</td>\n",
       "      <td>0</td>\n",
       "      <td>0.446037</td>\n",
       "      <td>2.659671e-01</td>\n",
       "      <td>-0.377040</td>\n",
       "    </tr>\n",
       "    <tr>\n",
       "      <td>6</td>\n",
       "      <td>-0.441837</td>\n",
       "      <td>0.043410</td>\n",
       "      <td>0.0</td>\n",
       "      <td>0</td>\n",
       "      <td>0.195220</td>\n",
       "      <td>1.884393e-03</td>\n",
       "      <td>-0.020996</td>\n",
       "    </tr>\n",
       "    <tr>\n",
       "      <td>7</td>\n",
       "      <td>-1.000000</td>\n",
       "      <td>0.710229</td>\n",
       "      <td>0.0</td>\n",
       "      <td>0</td>\n",
       "      <td>1.000000</td>\n",
       "      <td>5.044252e-01</td>\n",
       "      <td>-0.777474</td>\n",
       "    </tr>\n",
       "    <tr>\n",
       "      <td>8</td>\n",
       "      <td>-0.839685</td>\n",
       "      <td>0.287180</td>\n",
       "      <td>0.0</td>\n",
       "      <td>0</td>\n",
       "      <td>0.705071</td>\n",
       "      <td>8.247240e-02</td>\n",
       "      <td>-0.263972</td>\n",
       "    </tr>\n",
       "    <tr>\n",
       "      <td>9</td>\n",
       "      <td>0.138217</td>\n",
       "      <td>0.000365</td>\n",
       "      <td>1.0</td>\n",
       "      <td>1</td>\n",
       "      <td>0.019104</td>\n",
       "      <td>1.331204e-07</td>\n",
       "      <td>0.000055</td>\n",
       "    </tr>\n",
       "    <tr>\n",
       "      <td>10</td>\n",
       "      <td>-0.319221</td>\n",
       "      <td>-0.291798</td>\n",
       "      <td>0.0</td>\n",
       "      <td>0</td>\n",
       "      <td>0.101902</td>\n",
       "      <td>8.514636e-02</td>\n",
       "      <td>0.101968</td>\n",
       "    </tr>\n",
       "    <tr>\n",
       "      <td>11</td>\n",
       "      <td>-0.235537</td>\n",
       "      <td>-0.490547</td>\n",
       "      <td>0.0</td>\n",
       "      <td>0</td>\n",
       "      <td>0.055478</td>\n",
       "      <td>2.406362e-01</td>\n",
       "      <td>0.126482</td>\n",
       "    </tr>\n",
       "    <tr>\n",
       "      <td>12</td>\n",
       "      <td>-0.536193</td>\n",
       "      <td>-0.146694</td>\n",
       "      <td>0.0</td>\n",
       "      <td>0</td>\n",
       "      <td>0.287503</td>\n",
       "      <td>2.151920e-02</td>\n",
       "      <td>0.086104</td>\n",
       "    </tr>\n",
       "    <tr>\n",
       "      <td>13</td>\n",
       "      <td>-0.640066</td>\n",
       "      <td>-0.052530</td>\n",
       "      <td>0.0</td>\n",
       "      <td>0</td>\n",
       "      <td>0.409684</td>\n",
       "      <td>2.759447e-03</td>\n",
       "      <td>0.036806</td>\n",
       "    </tr>\n",
       "    <tr>\n",
       "      <td>14</td>\n",
       "      <td>-0.400689</td>\n",
       "      <td>0.709773</td>\n",
       "      <td>0.0</td>\n",
       "      <td>0</td>\n",
       "      <td>0.160552</td>\n",
       "      <td>5.037780e-01</td>\n",
       "      <td>-0.311326</td>\n",
       "    </tr>\n",
       "    <tr>\n",
       "      <td>15</td>\n",
       "      <td>-0.152209</td>\n",
       "      <td>-0.407477</td>\n",
       "      <td>0.0</td>\n",
       "      <td>0</td>\n",
       "      <td>0.023167</td>\n",
       "      <td>1.660378e-01</td>\n",
       "      <td>0.067894</td>\n",
       "    </tr>\n",
       "    <tr>\n",
       "      <td>16</td>\n",
       "      <td>-0.279486</td>\n",
       "      <td>0.073566</td>\n",
       "      <td>0.0</td>\n",
       "      <td>0</td>\n",
       "      <td>0.078112</td>\n",
       "      <td>5.411944e-03</td>\n",
       "      <td>-0.022507</td>\n",
       "    </tr>\n",
       "    <tr>\n",
       "      <td>17</td>\n",
       "      <td>-0.539715</td>\n",
       "      <td>-0.021386</td>\n",
       "      <td>0.0</td>\n",
       "      <td>0</td>\n",
       "      <td>0.291292</td>\n",
       "      <td>4.573593e-04</td>\n",
       "      <td>0.012635</td>\n",
       "    </tr>\n",
       "    <tr>\n",
       "      <td>18</td>\n",
       "      <td>-0.097315</td>\n",
       "      <td>-0.483898</td>\n",
       "      <td>1.0</td>\n",
       "      <td>0</td>\n",
       "      <td>0.009470</td>\n",
       "      <td>2.341576e-01</td>\n",
       "      <td>0.051549</td>\n",
       "    </tr>\n",
       "    <tr>\n",
       "      <td>19</td>\n",
       "      <td>-0.590452</td>\n",
       "      <td>-0.283702</td>\n",
       "      <td>0.0</td>\n",
       "      <td>0</td>\n",
       "      <td>0.348634</td>\n",
       "      <td>8.048710e-02</td>\n",
       "      <td>0.183373</td>\n",
       "    </tr>\n",
       "  </tbody>\n",
       "</table>\n",
       "</div>"
      ],
      "text/plain": [
       "           x         y  label  classify        x2            y2        xy\n",
       "0  -0.869766  0.632082    0.0         0  0.756494  3.995283e-01 -0.601816\n",
       "1  -0.114108 -0.822787    0.0         0  0.013021  6.769780e-01  0.102776\n",
       "2  -0.673881  0.672465    0.0         0  0.454116  4.522094e-01 -0.496067\n",
       "3  -0.418775 -0.192395    0.0         0  0.175373  3.701600e-02  0.088199\n",
       "4   0.689122  0.778023    1.0         1  0.474889  6.053200e-01  0.586916\n",
       "5  -0.667860  0.515720    0.0         0  0.446037  2.659671e-01 -0.377040\n",
       "6  -0.441837  0.043410    0.0         0  0.195220  1.884393e-03 -0.020996\n",
       "7  -1.000000  0.710229    0.0         0  1.000000  5.044252e-01 -0.777474\n",
       "8  -0.839685  0.287180    0.0         0  0.705071  8.247240e-02 -0.263972\n",
       "9   0.138217  0.000365    1.0         1  0.019104  1.331204e-07  0.000055\n",
       "10 -0.319221 -0.291798    0.0         0  0.101902  8.514636e-02  0.101968\n",
       "11 -0.235537 -0.490547    0.0         0  0.055478  2.406362e-01  0.126482\n",
       "12 -0.536193 -0.146694    0.0         0  0.287503  2.151920e-02  0.086104\n",
       "13 -0.640066 -0.052530    0.0         0  0.409684  2.759447e-03  0.036806\n",
       "14 -0.400689  0.709773    0.0         0  0.160552  5.037780e-01 -0.311326\n",
       "15 -0.152209 -0.407477    0.0         0  0.023167  1.660378e-01  0.067894\n",
       "16 -0.279486  0.073566    0.0         0  0.078112  5.411944e-03 -0.022507\n",
       "17 -0.539715 -0.021386    0.0         0  0.291292  4.573593e-04  0.012635\n",
       "18 -0.097315 -0.483898    1.0         0  0.009470  2.341576e-01  0.051549\n",
       "19 -0.590452 -0.283702    0.0         0  0.348634  8.048710e-02  0.183373"
      ]
     },
     "execution_count": 135,
     "metadata": {},
     "output_type": "execute_result"
    }
   ],
   "source": [
    "df100['x2'] = df100['x']*df100['x']\n",
    "df100['y2'] = df100['y']*df100['y']\n",
    "df100['xy'] = df100['x']*df100['y']\n",
    "#df100 = df100.drop(columns=['classify'], axis=1)\n",
    "check = df100.abs()\n",
    "df100['x'] = (df100['x'])/(check.max()['x'])\n",
    "df100['y'] = (df100['y'])/(check.max()['y'])\n",
    "df100['x2'] = (df100['x2'])/(check.max()['x2'])\n",
    "df100['xy'] = (df100['xy'])/(check.max()['xy'])\n",
    "df100['y2'] = (df100['y2'])/(check.max()['y2'])\n",
    "\n",
    "df100.head(20)"
   ]
  },
  {
   "cell_type": "code",
   "execution_count": 136,
   "metadata": {},
   "outputs": [
    {
     "data": {
      "text/html": [
       "<div>\n",
       "<style scoped>\n",
       "    .dataframe tbody tr th:only-of-type {\n",
       "        vertical-align: middle;\n",
       "    }\n",
       "\n",
       "    .dataframe tbody tr th {\n",
       "        vertical-align: top;\n",
       "    }\n",
       "\n",
       "    .dataframe thead th {\n",
       "        text-align: right;\n",
       "    }\n",
       "</style>\n",
       "<table border=\"1\" class=\"dataframe\">\n",
       "  <thead>\n",
       "    <tr style=\"text-align: right;\">\n",
       "      <th></th>\n",
       "      <th>x</th>\n",
       "      <th>y</th>\n",
       "      <th>label</th>\n",
       "      <th>classify</th>\n",
       "      <th>x2</th>\n",
       "      <th>y2</th>\n",
       "      <th>xy</th>\n",
       "    </tr>\n",
       "  </thead>\n",
       "  <tbody>\n",
       "    <tr>\n",
       "      <td>0</td>\n",
       "      <td>-0.354114</td>\n",
       "      <td>-0.322129</td>\n",
       "      <td>0.0</td>\n",
       "      <td>0</td>\n",
       "      <td>0.125397</td>\n",
       "      <td>0.103767</td>\n",
       "      <td>0.168666</td>\n",
       "    </tr>\n",
       "    <tr>\n",
       "      <td>1</td>\n",
       "      <td>-0.259064</td>\n",
       "      <td>-0.292273</td>\n",
       "      <td>0.0</td>\n",
       "      <td>0</td>\n",
       "      <td>0.067114</td>\n",
       "      <td>0.085424</td>\n",
       "      <td>0.111957</td>\n",
       "    </tr>\n",
       "    <tr>\n",
       "      <td>2</td>\n",
       "      <td>-0.542389</td>\n",
       "      <td>-0.088894</td>\n",
       "      <td>0.0</td>\n",
       "      <td>0</td>\n",
       "      <td>0.294186</td>\n",
       "      <td>0.007902</td>\n",
       "      <td>0.071291</td>\n",
       "    </tr>\n",
       "    <tr>\n",
       "      <td>3</td>\n",
       "      <td>0.586973</td>\n",
       "      <td>0.265227</td>\n",
       "      <td>1.0</td>\n",
       "      <td>1</td>\n",
       "      <td>0.344537</td>\n",
       "      <td>0.070345</td>\n",
       "      <td>0.230192</td>\n",
       "    </tr>\n",
       "    <tr>\n",
       "      <td>4</td>\n",
       "      <td>-0.165880</td>\n",
       "      <td>-0.099207</td>\n",
       "      <td>0.0</td>\n",
       "      <td>0</td>\n",
       "      <td>0.027516</td>\n",
       "      <td>0.009842</td>\n",
       "      <td>0.024333</td>\n",
       "    </tr>\n",
       "    <tr>\n",
       "      <td>5</td>\n",
       "      <td>-0.569723</td>\n",
       "      <td>0.380372</td>\n",
       "      <td>0.0</td>\n",
       "      <td>0</td>\n",
       "      <td>0.324584</td>\n",
       "      <td>0.144683</td>\n",
       "      <td>-0.320424</td>\n",
       "    </tr>\n",
       "    <tr>\n",
       "      <td>6</td>\n",
       "      <td>-0.373733</td>\n",
       "      <td>-0.012403</td>\n",
       "      <td>0.0</td>\n",
       "      <td>0</td>\n",
       "      <td>0.139677</td>\n",
       "      <td>0.000154</td>\n",
       "      <td>0.006854</td>\n",
       "    </tr>\n",
       "    <tr>\n",
       "      <td>7</td>\n",
       "      <td>-0.163476</td>\n",
       "      <td>-0.120925</td>\n",
       "      <td>0.0</td>\n",
       "      <td>0</td>\n",
       "      <td>0.026724</td>\n",
       "      <td>0.014623</td>\n",
       "      <td>0.029230</td>\n",
       "    </tr>\n",
       "    <tr>\n",
       "      <td>8</td>\n",
       "      <td>-0.333663</td>\n",
       "      <td>0.383154</td>\n",
       "      <td>0.0</td>\n",
       "      <td>0</td>\n",
       "      <td>0.111331</td>\n",
       "      <td>0.146807</td>\n",
       "      <td>-0.189032</td>\n",
       "    </tr>\n",
       "    <tr>\n",
       "      <td>9</td>\n",
       "      <td>0.670877</td>\n",
       "      <td>0.145584</td>\n",
       "      <td>1.0</td>\n",
       "      <td>1</td>\n",
       "      <td>0.450076</td>\n",
       "      <td>0.021195</td>\n",
       "      <td>0.144414</td>\n",
       "    </tr>\n",
       "    <tr>\n",
       "      <td>10</td>\n",
       "      <td>-0.254436</td>\n",
       "      <td>-0.213932</td>\n",
       "      <td>0.0</td>\n",
       "      <td>0</td>\n",
       "      <td>0.064737</td>\n",
       "      <td>0.045767</td>\n",
       "      <td>0.080484</td>\n",
       "    </tr>\n",
       "    <tr>\n",
       "      <td>11</td>\n",
       "      <td>-0.385473</td>\n",
       "      <td>-0.114217</td>\n",
       "      <td>0.0</td>\n",
       "      <td>0</td>\n",
       "      <td>0.148589</td>\n",
       "      <td>0.013046</td>\n",
       "      <td>0.065100</td>\n",
       "    </tr>\n",
       "    <tr>\n",
       "      <td>12</td>\n",
       "      <td>-0.344854</td>\n",
       "      <td>0.163497</td>\n",
       "      <td>0.0</td>\n",
       "      <td>0</td>\n",
       "      <td>0.118924</td>\n",
       "      <td>0.026731</td>\n",
       "      <td>-0.083368</td>\n",
       "    </tr>\n",
       "    <tr>\n",
       "      <td>13</td>\n",
       "      <td>-0.559696</td>\n",
       "      <td>0.191398</td>\n",
       "      <td>0.0</td>\n",
       "      <td>0</td>\n",
       "      <td>0.313259</td>\n",
       "      <td>0.036633</td>\n",
       "      <td>-0.158396</td>\n",
       "    </tr>\n",
       "    <tr>\n",
       "      <td>14</td>\n",
       "      <td>-0.476519</td>\n",
       "      <td>-0.023369</td>\n",
       "      <td>0.0</td>\n",
       "      <td>0</td>\n",
       "      <td>0.227071</td>\n",
       "      <td>0.000546</td>\n",
       "      <td>0.016465</td>\n",
       "    </tr>\n",
       "    <tr>\n",
       "      <td>15</td>\n",
       "      <td>-0.548443</td>\n",
       "      <td>-0.018788</td>\n",
       "      <td>0.0</td>\n",
       "      <td>0</td>\n",
       "      <td>0.300790</td>\n",
       "      <td>0.000353</td>\n",
       "      <td>0.015236</td>\n",
       "    </tr>\n",
       "    <tr>\n",
       "      <td>16</td>\n",
       "      <td>-0.260140</td>\n",
       "      <td>0.123511</td>\n",
       "      <td>0.0</td>\n",
       "      <td>0</td>\n",
       "      <td>0.067673</td>\n",
       "      <td>0.015255</td>\n",
       "      <td>-0.047508</td>\n",
       "    </tr>\n",
       "    <tr>\n",
       "      <td>17</td>\n",
       "      <td>-0.500239</td>\n",
       "      <td>0.294716</td>\n",
       "      <td>0.0</td>\n",
       "      <td>0</td>\n",
       "      <td>0.250239</td>\n",
       "      <td>0.086858</td>\n",
       "      <td>-0.217989</td>\n",
       "    </tr>\n",
       "    <tr>\n",
       "      <td>18</td>\n",
       "      <td>-0.193063</td>\n",
       "      <td>-0.430785</td>\n",
       "      <td>0.0</td>\n",
       "      <td>0</td>\n",
       "      <td>0.037273</td>\n",
       "      <td>0.185575</td>\n",
       "      <td>0.122974</td>\n",
       "    </tr>\n",
       "    <tr>\n",
       "      <td>19</td>\n",
       "      <td>-0.207147</td>\n",
       "      <td>-0.085451</td>\n",
       "      <td>0.0</td>\n",
       "      <td>0</td>\n",
       "      <td>0.042910</td>\n",
       "      <td>0.007302</td>\n",
       "      <td>0.026173</td>\n",
       "    </tr>\n",
       "  </tbody>\n",
       "</table>\n",
       "</div>"
      ],
      "text/plain": [
       "           x         y  label  classify        x2        y2        xy\n",
       "0  -0.354114 -0.322129    0.0         0  0.125397  0.103767  0.168666\n",
       "1  -0.259064 -0.292273    0.0         0  0.067114  0.085424  0.111957\n",
       "2  -0.542389 -0.088894    0.0         0  0.294186  0.007902  0.071291\n",
       "3   0.586973  0.265227    1.0         1  0.344537  0.070345  0.230192\n",
       "4  -0.165880 -0.099207    0.0         0  0.027516  0.009842  0.024333\n",
       "5  -0.569723  0.380372    0.0         0  0.324584  0.144683 -0.320424\n",
       "6  -0.373733 -0.012403    0.0         0  0.139677  0.000154  0.006854\n",
       "7  -0.163476 -0.120925    0.0         0  0.026724  0.014623  0.029230\n",
       "8  -0.333663  0.383154    0.0         0  0.111331  0.146807 -0.189032\n",
       "9   0.670877  0.145584    1.0         1  0.450076  0.021195  0.144414\n",
       "10 -0.254436 -0.213932    0.0         0  0.064737  0.045767  0.080484\n",
       "11 -0.385473 -0.114217    0.0         0  0.148589  0.013046  0.065100\n",
       "12 -0.344854  0.163497    0.0         0  0.118924  0.026731 -0.083368\n",
       "13 -0.559696  0.191398    0.0         0  0.313259  0.036633 -0.158396\n",
       "14 -0.476519 -0.023369    0.0         0  0.227071  0.000546  0.016465\n",
       "15 -0.548443 -0.018788    0.0         0  0.300790  0.000353  0.015236\n",
       "16 -0.260140  0.123511    0.0         0  0.067673  0.015255 -0.047508\n",
       "17 -0.500239  0.294716    0.0         0  0.250239  0.086858 -0.217989\n",
       "18 -0.193063 -0.430785    0.0         0  0.037273  0.185575  0.122974\n",
       "19 -0.207147 -0.085451    0.0         0  0.042910  0.007302  0.026173"
      ]
     },
     "execution_count": 136,
     "metadata": {},
     "output_type": "execute_result"
    }
   ],
   "source": [
    "df1000['x2'] = df1000['x']*df1000['x']\n",
    "df1000['y2'] = df1000['y']*df1000['y']\n",
    "df1000['xy'] = df1000['x']*df1000['y']\n",
    "#df1000 = df1000.drop(columns=['classify'], axis=1)\n",
    "check = df1000.abs()\n",
    "df1000['x'] = (df1000['x'])/(check.max()['x'])\n",
    "df1000['y'] = (df1000['y'])/(check.max()['y'])\n",
    "df1000['x2'] = (df1000['x2'])/(check.max()['x2'])\n",
    "df1000['xy'] = (df1000['xy'])/(check.max()['xy'])\n",
    "df1000['y2'] = (df1000['y2'])/(check.max()['y2'])\n",
    "\n",
    "df1000.head(20)"
   ]
  },
  {
   "cell_type": "markdown",
   "metadata": {},
   "source": [
    "### Data 10"
   ]
  },
  {
   "cell_type": "code",
   "execution_count": 137,
   "metadata": {},
   "outputs": [],
   "source": [
    "a = np.random.uniform(0,1)\n",
    "b = np.random.uniform(0,1)\n",
    "c = np.random.uniform(0,1)\n",
    "d = np.random.uniform(0,1)\n",
    "e = np.random.uniform(0,1)\n",
    "f = np.random.uniform(0,1)\n",
    "theta10 = np.array([a,b,c,d,e,f])"
   ]
  },
  {
   "cell_type": "code",
   "execution_count": 138,
   "metadata": {},
   "outputs": [],
   "source": [
    "grad = np.zeros((5,1))\n",
    "learn = 0.01\n",
    "loss = []\n",
    "for i in range(200):\n",
    "    y_pred = (theta10[0]*df10['x'])+(theta10[1]*df10['y'])+(theta10[2]*df10['x2'])+(theta10[3]*df10['xy'])+(theta10[4]*df10['y2'])+theta10[5]\n",
    "    y_pred = sigmoid(y_pred)\n",
    "    \n",
    "    grad[0,0] = np.sum(np.multiply(df10.iloc[:,0],(df10.iloc[:,2]-y_pred)))\n",
    "    grad[1,0] = np.sum(np.multiply(df10.iloc[:,1],(df10.iloc[:,2]-y_pred)))\n",
    "    grad[2,0] = np.sum(np.multiply(df10.iloc[:,3],(df10.iloc[:,2]-y_pred)))\n",
    "    grad[3,0] = np.sum(np.multiply(df10.iloc[:,4],(df10.iloc[:,2]-y_pred)))\n",
    "    grad[4,0] = np.sum(np.multiply(df10.iloc[:,5],(df10.iloc[:,2]-y_pred)))\n",
    "    \n",
    "    theta10[0] += learn*grad[0,0]\n",
    "    theta10[1] += learn*grad[1,0]\n",
    "    theta10[2] += learn*grad[2,0]\n",
    "    theta10[3] += learn*grad[3,0]\n",
    "    theta10[4] += learn*grad[4,0]\n",
    "    loss.append(-1*np.sum((df10.iloc[:,2]-y_pred)))"
   ]
  },
  {
   "cell_type": "code",
   "execution_count": 139,
   "metadata": {},
   "outputs": [
    {
     "data": {
      "image/png": "[encoded data removed]",
      "text/plain": [
       "<Figure size 432x288 with 1 Axes>"
      ]
     },
     "metadata": {
      "needs_background": "light"
     },
     "output_type": "display_data"
    }
   ],
   "source": [
    "axis = np.linspace(0,200,len(loss))\n",
    "plt.plot(axis,loss)\n",
    "plt.xlabel('Iteration')\n",
    "plt.ylabel('Loss')\n",
    "plt.title('Iterations VS Loss curve')\n",
    "plt.show()"
   ]
  },
  {
   "cell_type": "markdown",
   "metadata": {},
   "source": [
    "### Data 100"
   ]
  },
  {
   "cell_type": "code",
   "execution_count": 140,
   "metadata": {},
   "outputs": [],
   "source": [
    "a = np.random.uniform(0,1)\n",
    "b = np.random.uniform(0,1)\n",
    "c = np.random.uniform(0,1)\n",
    "d = np.random.uniform(0,1)\n",
    "e = np.random.uniform(0,1)\n",
    "f = np.random.uniform(0,1)\n",
    "theta100 = np.array([a,b,c,d,e,f])\n",
    "#theta100 = np.array([0,0,0,0,0,0])"
   ]
  },
  {
   "cell_type": "code",
   "execution_count": 141,
   "metadata": {},
   "outputs": [],
   "source": [
    "grad = np.zeros((5,1))\n",
    "learn = 0.01\n",
    "loss = []\n",
    "for i in range(200):\n",
    "    y_pred = (theta100[0]*df100['x'])+(theta100[1]*df100['y'])+(theta100[2]*df100['x2'])+(theta100[3]*df100['xy'])+(theta100[4]*df100['y2'])+theta100[5]\n",
    "    y_pred = sigmoid(y_pred)\n",
    "    \n",
    "    grad[0,0] = np.sum(np.multiply(df100.iloc[:,0],(df100.iloc[:,2]-y_pred)))\n",
    "    grad[1,0] = np.sum(np.multiply(df100.iloc[:,1],(df100.iloc[:,2]-y_pred)))\n",
    "    grad[2,0] = np.sum(np.multiply(df100.iloc[:,3],(df100.iloc[:,2]-y_pred)))\n",
    "    grad[3,0] = np.sum(np.multiply(df100.iloc[:,4],(df100.iloc[:,2]-y_pred)))\n",
    "    grad[4,0] = np.sum(np.multiply(df100.iloc[:,5],(df100.iloc[:,2]-y_pred)))\n",
    "    \n",
    "    theta100[0] += learn*grad[0,0]\n",
    "    theta100[1] += learn*grad[1,0]\n",
    "    theta100[2] += learn*grad[2,0]\n",
    "    theta100[3] += learn*grad[3,0]\n",
    "    theta100[4] += learn*grad[4,0]\n",
    "    loss.append(-1*np.sum((df100.iloc[:,2]-y_pred)))"
   ]
  },
  {
   "cell_type": "code",
   "execution_count": 142,
   "metadata": {},
   "outputs": [
    {
     "data": {
      "image/png": "[encoded data removed]",
      "text/plain": [
       "<Figure size 432x288 with 1 Axes>"
      ]
     },
     "metadata": {
      "needs_background": "light"
     },
     "output_type": "display_data"
    }
   ],
   "source": [
    "axis = np.linspace(0,200,len(loss))\n",
    "plt.plot(axis,loss)\n",
    "plt.xlabel('Iteration')\n",
    "plt.ylabel('Loss')\n",
    "plt.title('Iterations VS Loss curve')\n",
    "plt.show()"
   ]
  },
  {
   "cell_type": "markdown",
   "metadata": {},
   "source": [
    "### Data 1000"
   ]
  },
  {
   "cell_type": "code",
   "execution_count": 143,
   "metadata": {},
   "outputs": [],
   "source": [
    "a = np.random.uniform(0,1)\n",
    "b = np.random.uniform(0,1)\n",
    "c = np.random.uniform(0,1)\n",
    "d = np.random.uniform(0,1)\n",
    "e = np.random.uniform(0,1)\n",
    "f = np.random.uniform(0,1)\n",
    "theta1000 = np.array([a,b,c,d,e,f])\n",
    "#theta1000 = np.array([0,0,0,0,0,0])"
   ]
  },
  {
   "cell_type": "code",
   "execution_count": 144,
   "metadata": {},
   "outputs": [],
   "source": [
    "grad = np.zeros((5,1))\n",
    "learn = 0.01\n",
    "loss = []\n",
    "for i in range(200):\n",
    "    y_pred = (theta1000[0]*df1000['x'])+(theta1000[1]*df1000['y'])+(theta1000[2]*df1000['x2'])+(theta1000[3]*df1000['xy'])+(theta1000[4]*df1000['y2'])+theta1000[5]\n",
    "    y_pred = sigmoid(y_pred)\n",
    "    \n",
    "    grad[0,0] = np.sum(np.multiply(df1000.iloc[:,0],(df1000.iloc[:,2]-y_pred)))\n",
    "    grad[1,0] = np.sum(np.multiply(df1000.iloc[:,1],(df1000.iloc[:,2]-y_pred)))\n",
    "    grad[2,0] = np.sum(np.multiply(df1000.iloc[:,3],(df1000.iloc[:,2]-y_pred)))\n",
    "    grad[3,0] = np.sum(np.multiply(df1000.iloc[:,4],(df1000.iloc[:,2]-y_pred)))\n",
    "    grad[4,0] = np.sum(np.multiply(df1000.iloc[:,5],(df1000.iloc[:,2]-y_pred)))\n",
    "    \n",
    "    theta1000[0] += learn*grad[0,0]\n",
    "    theta1000[1] += learn*grad[1,0]\n",
    "    theta1000[2] += learn*grad[2,0]\n",
    "    theta1000[3] += learn*grad[3,0]\n",
    "    theta1000[4] += learn*grad[4,0]\n",
    "    loss.append(-1*np.sum((df1000.iloc[:,2]-y_pred)))"
   ]
  },
  {
   "cell_type": "code",
   "execution_count": 145,
   "metadata": {},
   "outputs": [
    {
     "data": {
      "image/png": "[encoded data removed]",
      "text/plain": [
       "<Figure size 432x288 with 1 Axes>"
      ]
     },
     "metadata": {
      "needs_background": "light"
     },
     "output_type": "display_data"
    }
   ],
   "source": [
    "axis = np.linspace(0,200,len(loss))\n",
    "plt.plot(axis,loss)\n",
    "plt.xlabel('Iteration')\n",
    "plt.ylabel('Loss')\n",
    "plt.title('Iterations VS Loss curve')\n",
    "plt.show()"
   ]
  },
  {
   "cell_type": "code",
   "execution_count": null,
   "metadata": {},
   "outputs": [],
   "source": []
  },
  {
   "cell_type": "markdown",
   "metadata": {},
   "source": [
    "### Validation data 10"
   ]
  },
  {
   "cell_type": "code",
   "execution_count": 146,
   "metadata": {},
   "outputs": [],
   "source": [
    "y_pred = (theta10[0]*df10KV['x'])+(theta10[1]*df10KV['y'])+theta10[2]\n",
    "y_pred = sigmoid(y_pred)"
   ]
  },
  {
   "cell_type": "code",
   "execution_count": 147,
   "metadata": {},
   "outputs": [],
   "source": [
    "classify = []\n",
    "for i in y_pred:\n",
    "    if i>0.5:\n",
    "        classify.append(1)\n",
    "    else:\n",
    "        classify.append(0)"
   ]
  },
  {
   "cell_type": "code",
   "execution_count": 148,
   "metadata": {},
   "outputs": [],
   "source": [
    "df10KV['Validate_10_classify'] = classify"
   ]
  },
  {
   "cell_type": "code",
   "execution_count": 149,
   "metadata": {},
   "outputs": [
    {
     "data": {
      "image/png": "[encoded data removed]",
      "text/plain": [
       "<Figure size 432x288 with 1 Axes>"
      ]
     },
     "metadata": {
      "needs_background": "light"
     },
     "output_type": "display_data"
    }
   ],
   "source": [
    "#plt.scatter(df[df['label']==0 and df['classify']==0])\n",
    "ind = np.where((df10KV['label']==0) & (df10KV['Validate_10_classify']==0))\n",
    "plt.scatter(df10KV.loc[ind]['x'],df10KV.loc[ind]['y'], marker='+',color = 'red',label='Class: 0, Prediction: 0')\n",
    "ind = np.where((df10KV['label']==0) & (df10KV['Validate_10_classify']==1))\n",
    "plt.scatter(df10KV.loc[ind]['x'],df10KV.loc[ind]['y'], marker='+',color = 'yellow',label='Class: 0, Prediction: 1')\n",
    "ind = np.where((df10KV['label']==1) & (df10KV['Validate_10_classify']==0))\n",
    "plt.scatter(df10KV.loc[ind]['x'],df10KV.loc[ind]['y'], marker='+',color = 'blue',label='Class: 1, Prediction: 0')\n",
    "ind = np.where((df10KV['label']==1) & (df10KV['Validate_10_classify']==1))\n",
    "plt.scatter(df10KV.loc[ind]['x'],df10KV.loc[ind]['y'], marker='+',color = 'green',label='Class: 1, Prediction: 1')\n",
    "\n",
    "\n",
    "plt.axis('equal')\n",
    "plt.title('Scatter plot of samples with their predictions',fontsize=15)\n",
    "plt.xlabel('x',fontsize=20)\n",
    "plt.ylim(-9,6)\n",
    "plt.ylabel('y',fontsize=20)\n",
    "plt.legend()\n",
    "plt.show()"
   ]
  },
  {
   "cell_type": "code",
   "execution_count": 150,
   "metadata": {},
   "outputs": [
    {
     "name": "stdout",
     "output_type": "stream",
     "text": [
      "660\n"
     ]
    }
   ],
   "source": [
    "ind1 = np.where((df10KV['label']==0) & (df10KV['Validate_10_classify']==1))\n",
    "ind2 = np.where((df10KV['label']==1) & (df10KV['Validate_10_classify']==0)) \n",
    "print(np.shape(ind1)[-1]+np.shape(ind2)[-1])"
   ]
  },
  {
   "cell_type": "code",
   "execution_count": null,
   "metadata": {},
   "outputs": [],
   "source": []
  },
  {
   "cell_type": "markdown",
   "metadata": {},
   "source": [
    "### Validation 100 data"
   ]
  },
  {
   "cell_type": "code",
   "execution_count": 151,
   "metadata": {},
   "outputs": [],
   "source": [
    "y_pred = (theta100[0]*df10KV['x'])+(theta100[1]*df10KV['y'])+theta100[2]\n",
    "y_pred = sigmoid(y_pred)"
   ]
  },
  {
   "cell_type": "code",
   "execution_count": 152,
   "metadata": {},
   "outputs": [],
   "source": [
    "classify = []\n",
    "for i in y_pred:\n",
    "    if i>0.5:\n",
    "        classify.append(1)\n",
    "    else:\n",
    "        classify.append(0)"
   ]
  },
  {
   "cell_type": "code",
   "execution_count": 153,
   "metadata": {},
   "outputs": [],
   "source": [
    "df10KV['Validate_100_classify'] = classify"
   ]
  },
  {
   "cell_type": "code",
   "execution_count": 154,
   "metadata": {},
   "outputs": [
    {
     "data": {
      "image/png": "[encoded data removed]",
      "text/plain": [
       "<Figure size 432x288 with 1 Axes>"
      ]
     },
     "metadata": {
      "needs_background": "light"
     },
     "output_type": "display_data"
    }
   ],
   "source": [
    "#plt.scatter(df[df['label']==0 and df['classify']==0])\n",
    "ind = np.where((df10KV['label']==0) & (df10KV['Validate_100_classify']==0))\n",
    "plt.scatter(df10KV.loc[ind]['x'],df10KV.loc[ind]['y'], marker='+',color = 'red',label='Class: 0, Prediction: 0')\n",
    "ind = np.where((df10KV['label']==0) & (df10KV['Validate_100_classify']==1))\n",
    "plt.scatter(df10KV.loc[ind]['x'],df10KV.loc[ind]['y'], marker='+',color = 'yellow',label='Class: 0, Prediction: 1')\n",
    "ind = np.where((df10KV['label']==1) & (df10KV['Validate_100_classify']==0))\n",
    "plt.scatter(df10KV.loc[ind]['x'],df10KV.loc[ind]['y'], marker='+',color = 'blue',label='Class: 1, Prediction: 0')\n",
    "ind = np.where((df10KV['label']==1) & (df10KV['Validate_100_classify']==1))\n",
    "plt.scatter(df10KV.loc[ind]['x'],df10KV.loc[ind]['y'], marker='+',color = 'green',label='Class: 1, Prediction: 1')\n",
    "\n",
    "\n",
    "plt.axis('equal')\n",
    "plt.title('Scatter plot of samples with their predictions',fontsize=15)\n",
    "plt.xlabel('x',fontsize=20)\n",
    "plt.ylim(-9,6)\n",
    "plt.ylabel('y',fontsize=20)\n",
    "plt.legend()\n",
    "plt.show()"
   ]
  },
  {
   "cell_type": "code",
   "execution_count": 155,
   "metadata": {},
   "outputs": [
    {
     "name": "stdout",
     "output_type": "stream",
     "text": [
      "311\n"
     ]
    }
   ],
   "source": [
    "ind1 = np.where((df10KV['label']==0) & (df10KV['Validate_100_classify']==1))\n",
    "ind2 = np.where((df10KV['label']==1) & (df10KV['Validate_100_classify']==0)) \n",
    "print(np.shape(ind1)[-1]+np.shape(ind2)[-1])"
   ]
  },
  {
   "cell_type": "code",
   "execution_count": null,
   "metadata": {},
   "outputs": [],
   "source": []
  },
  {
   "cell_type": "markdown",
   "metadata": {},
   "source": [
    "### Validate 1000 data"
   ]
  },
  {
   "cell_type": "code",
   "execution_count": 156,
   "metadata": {},
   "outputs": [],
   "source": [
    "y_pred = (theta1000[0]*df10KV['x'])+(theta1000[1]*df10KV['y'])+theta1000[2]\n",
    "y_pred = sigmoid(y_pred)"
   ]
  },
  {
   "cell_type": "code",
   "execution_count": 157,
   "metadata": {},
   "outputs": [],
   "source": [
    "classify = []\n",
    "for i in y_pred:\n",
    "    if i>0.5:\n",
    "        classify.append(1)\n",
    "    else:\n",
    "        classify.append(0)"
   ]
  },
  {
   "cell_type": "code",
   "execution_count": 158,
   "metadata": {},
   "outputs": [],
   "source": [
    "df10KV['Validate_1000_classify'] = classify"
   ]
  },
  {
   "cell_type": "code",
   "execution_count": 159,
   "metadata": {},
   "outputs": [
    {
     "data": {
      "image/png": "[encoded data removed]",
      "text/plain": [
       "<Figure size 432x288 with 1 Axes>"
      ]
     },
     "metadata": {
      "needs_background": "light"
     },
     "output_type": "display_data"
    }
   ],
   "source": [
    "#plt.scatter(df[df['label']==0 and df['classify']==0])\n",
    "ind = np.where((df10KV['label']==0) & (df10KV['Validate_1000_classify']==0))\n",
    "plt.scatter(df10KV.loc[ind]['x'],df10KV.loc[ind]['y'], marker='+',color = 'red',label='Class: 0, Prediction: 0')\n",
    "ind = np.where((df10KV['label']==0) & (df10KV['Validate_1000_classify']==1))\n",
    "plt.scatter(df10KV.loc[ind]['x'],df10KV.loc[ind]['y'], marker='+',color = 'yellow',label='Class: 0, Prediction: 1')\n",
    "ind = np.where((df10KV['label']==1) & (df10KV['Validate_1000_classify']==0))\n",
    "plt.scatter(df10KV.loc[ind]['x'],df10KV.loc[ind]['y'], marker='+',color = 'blue',label='Class: 1, Prediction: 0')\n",
    "ind = np.where((df10KV['label']==1) & (df10KV['Validate_1000_classify']==1))\n",
    "plt.scatter(df10KV.loc[ind]['x'],df10KV.loc[ind]['y'], marker='+',color = 'green',label='Class: 1, Prediction: 1')\n",
    "\n",
    "\n",
    "plt.axis('equal')\n",
    "plt.title('Scatter plot of samples with their predictions',fontsize=15)\n",
    "plt.xlabel('x',fontsize=20)\n",
    "plt.ylim(-9,6)\n",
    "plt.ylabel('y',fontsize=20)\n",
    "plt.legend()\n",
    "plt.show()"
   ]
  },
  {
   "cell_type": "code",
   "execution_count": 160,
   "metadata": {},
   "outputs": [
    {
     "name": "stdout",
     "output_type": "stream",
     "text": [
      "192\n"
     ]
    }
   ],
   "source": [
    "ind1 = np.where((df10KV['label']==0) & (df10KV['Validate_1000_classify']==1))\n",
    "ind2 = np.where((df10KV['label']==1) & (df10KV['Validate_1000_classify']==0)) \n",
    "print(np.shape(ind1)[-1]+np.shape(ind2)[-1])"
   ]
  },
  {
   "cell_type": "code",
   "execution_count": null,
   "metadata": {},
   "outputs": [],
   "source": []
  },
  {
   "cell_type": "code",
   "execution_count": null,
   "metadata": {},
   "outputs": [],
   "source": []
  },
  {
   "cell_type": "code",
   "execution_count": null,
   "metadata": {},
   "outputs": [],
   "source": []
  }
 ],
 "metadata": {
  "kernelspec": {
   "display_name": "Python 3",
   "language": "python",
   "name": "python3"
  },
  "language_info": {
   "codemirror_mode": {
    "name": "ipython",
    "version": 3
   },
   "file_extension": ".py",
   "mimetype": "text/x-python",
   "name": "python",
   "nbconvert_exporter": "python",
   "pygments_lexer": "ipython3",
   "version": "3.7.4"
  }
 },
 "nbformat": 4,
 "nbformat_minor": 2
}
