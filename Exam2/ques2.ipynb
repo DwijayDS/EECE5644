{
 "cells": [
  {
   "cell_type": "code",
   "execution_count": 2,
   "metadata": {},
   "outputs": [],
   "source": [
    "import numpy as np\n",
    "import pandas as pd\n",
    "import matplotlib.pyplot as plt\n",
    "import math"
   ]
  },
  {
   "cell_type": "code",
   "execution_count": 3,
   "metadata": {},
   "outputs": [],
   "source": [
    "#Wtrue = np.array([1,-0.5,-1,0.5])\n",
    "Wtrue = np.array([0.8,0,-0.8,0])"
   ]
  },
  {
   "cell_type": "code",
   "execution_count": 24,
   "metadata": {},
   "outputs": [
    {
     "name": "stdout",
     "output_type": "stream",
     "text": [
      "[ 0.8  0.  -0.8  0. ]\n"
     ]
    }
   ],
   "source": [
    "[0.8,0,-0.8,0]"
   ]
  },
  {
   "cell_type": "code",
   "execution_count": 4,
   "metadata": {},
   "outputs": [],
   "source": [
    "sigma = 0.584\n",
    "gamma = 1"
   ]
  },
  {
   "cell_type": "code",
   "execution_count": 5,
   "metadata": {},
   "outputs": [],
   "source": [
    "def sigmoid(x):\n",
    "    return (1 / (1 + np.exp(-x)))"
   ]
  },
  {
   "cell_type": "markdown",
   "metadata": {},
   "source": [
    "### Generate dataset"
   ]
  },
  {
   "cell_type": "code",
   "execution_count": 6,
   "metadata": {},
   "outputs": [],
   "source": [
    "x = np.random.uniform(-1,1,10)\n",
    "v = np.random.normal(0,sigma,10)"
   ]
  },
  {
   "cell_type": "code",
   "execution_count": 7,
   "metadata": {},
   "outputs": [],
   "source": [
    "new_data = pd.DataFrame({'x':x})\n",
    "new_data['x2'] = np.multiply(new_data['x'],new_data['x'])\n",
    "new_data['x3'] = np.multiply(new_data['x2'],new_data['x'])\n",
    "new_data['ones'] = np.ones((10,))"
   ]
  },
  {
   "cell_type": "code",
   "execution_count": 8,
   "metadata": {},
   "outputs": [],
   "source": [
    "new_data = new_data[['x3','x2','x','ones']]"
   ]
  },
  {
   "cell_type": "code",
   "execution_count": 9,
   "metadata": {},
   "outputs": [],
   "source": [
    "new_data['y'] = Wtrue[0]*new_data['x3'] + Wtrue[1]*new_data['x2'] + Wtrue[2]*new_data['x'] + Wtrue[0]*new_data['ones'] + v"
   ]
  },
  {
   "cell_type": "code",
   "execution_count": 26,
   "metadata": {},
   "outputs": [
    {
     "data": {
      "text/html": [
       "<div>\n",
       "<style scoped>\n",
       "    .dataframe tbody tr th:only-of-type {\n",
       "        vertical-align: middle;\n",
       "    }\n",
       "\n",
       "    .dataframe tbody tr th {\n",
       "        vertical-align: top;\n",
       "    }\n",
       "\n",
       "    .dataframe thead th {\n",
       "        text-align: right;\n",
       "    }\n",
       "</style>\n",
       "<table border=\"1\" class=\"dataframe\">\n",
       "  <thead>\n",
       "    <tr style=\"text-align: right;\">\n",
       "      <th></th>\n",
       "      <th>x</th>\n",
       "      <th>y</th>\n",
       "    </tr>\n",
       "  </thead>\n",
       "  <tbody>\n",
       "    <tr>\n",
       "      <td>0</td>\n",
       "      <td>-0.564228</td>\n",
       "      <td>1.246816</td>\n",
       "    </tr>\n",
       "    <tr>\n",
       "      <td>1</td>\n",
       "      <td>0.370274</td>\n",
       "      <td>0.815324</td>\n",
       "    </tr>\n",
       "    <tr>\n",
       "      <td>2</td>\n",
       "      <td>-0.139249</td>\n",
       "      <td>1.570922</td>\n",
       "    </tr>\n",
       "    <tr>\n",
       "      <td>3</td>\n",
       "      <td>-0.215180</td>\n",
       "      <td>0.561087</td>\n",
       "    </tr>\n",
       "    <tr>\n",
       "      <td>4</td>\n",
       "      <td>-0.314784</td>\n",
       "      <td>1.597067</td>\n",
       "    </tr>\n",
       "    <tr>\n",
       "      <td>5</td>\n",
       "      <td>-0.510410</td>\n",
       "      <td>1.725733</td>\n",
       "    </tr>\n",
       "    <tr>\n",
       "      <td>6</td>\n",
       "      <td>-0.755301</td>\n",
       "      <td>0.312010</td>\n",
       "    </tr>\n",
       "    <tr>\n",
       "      <td>7</td>\n",
       "      <td>-0.550297</td>\n",
       "      <td>0.717947</td>\n",
       "    </tr>\n",
       "    <tr>\n",
       "      <td>8</td>\n",
       "      <td>0.637334</td>\n",
       "      <td>1.130722</td>\n",
       "    </tr>\n",
       "    <tr>\n",
       "      <td>9</td>\n",
       "      <td>-0.740858</td>\n",
       "      <td>1.396303</td>\n",
       "    </tr>\n",
       "  </tbody>\n",
       "</table>\n",
       "</div>"
      ],
      "text/plain": [
       "          x         y\n",
       "0 -0.564228  1.246816\n",
       "1  0.370274  0.815324\n",
       "2 -0.139249  1.570922\n",
       "3 -0.215180  0.561087\n",
       "4 -0.314784  1.597067\n",
       "5 -0.510410  1.725733\n",
       "6 -0.755301  0.312010\n",
       "7 -0.550297  0.717947\n",
       "8  0.637334  1.130722\n",
       "9 -0.740858  1.396303"
      ]
     },
     "execution_count": 26,
     "metadata": {},
     "output_type": "execute_result"
    }
   ],
   "source": [
    "new_data[['x','y']].head(11)"
   ]
  },
  {
   "cell_type": "code",
   "execution_count": 28,
   "metadata": {},
   "outputs": [
    {
     "data": {
      "text/plain": [
       "<matplotlib.collections.PathCollection at 0x7f82bf54a990>"
      ]
     },
     "execution_count": 28,
     "metadata": {},
     "output_type": "execute_result"
    },
    {
     "data": {
      "image/png": "[encoded data removed]",
      "text/plain": [
       "<Figure size 432x288 with 1 Axes>"
      ]
     },
     "metadata": {
      "needs_background": "light"
     },
     "output_type": "display_data"
    }
   ],
   "source": [
    "plt.scatter(new_data['x'],new_data['y'])"
   ]
  },
  {
   "cell_type": "code",
   "execution_count": 11,
   "metadata": {},
   "outputs": [
    {
     "data": {
      "text/plain": [
       "(10, 4)"
      ]
     },
     "execution_count": 11,
     "metadata": {},
     "output_type": "execute_result"
    }
   ],
   "source": [
    "X = new_data.iloc[:,0:4]\n",
    "np.shape(X)"
   ]
  },
  {
   "cell_type": "code",
   "execution_count": 12,
   "metadata": {},
   "outputs": [],
   "source": [
    "var_ratio = (sigma/gamma)**2"
   ]
  },
  {
   "cell_type": "code",
   "execution_count": 13,
   "metadata": {},
   "outputs": [],
   "source": [
    "w_new = np.dot(np.linalg.inv(np.dot(X.T,X)+(var_ratio*np.eye(4))),np.dot(X.T,new_data['y']))"
   ]
  },
  {
   "cell_type": "code",
   "execution_count": 14,
   "metadata": {},
   "outputs": [
    {
     "data": {
      "text/plain": [
       "1.972437011736174"
      ]
     },
     "execution_count": 14,
     "metadata": {},
     "output_type": "execute_result"
    }
   ],
   "source": [
    "np.sqrt(np.sum(np.square(w_new-Wtrue)))"
   ]
  },
  {
   "cell_type": "code",
   "execution_count": 15,
   "metadata": {},
   "outputs": [
    {
     "data": {
      "text/plain": [
       "0.16828754403176382"
      ]
     },
     "execution_count": 15,
     "metadata": {},
     "output_type": "execute_result"
    }
   ],
   "source": [
    "np.dot(w_new.T,Wtrue)"
   ]
  },
  {
   "cell_type": "code",
   "execution_count": 16,
   "metadata": {},
   "outputs": [
    {
     "data": {
      "text/plain": [
       "array([-0.62073805,  1.11347775, -0.83109748,  0.79448814])"
      ]
     },
     "execution_count": 16,
     "metadata": {},
     "output_type": "execute_result"
    }
   ],
   "source": [
    "w_new"
   ]
  },
  {
   "cell_type": "markdown",
   "metadata": {},
   "source": [
    "## part 2"
   ]
  },
  {
   "cell_type": "code",
   "execution_count": 17,
   "metadata": {},
   "outputs": [],
   "source": [
    "K = 100"
   ]
  },
  {
   "cell_type": "code",
   "execution_count": 18,
   "metadata": {},
   "outputs": [],
   "source": [
    "gamma_range = 10**(np.linspace(-10,10,20))"
   ]
  },
  {
   "cell_type": "code",
   "execution_count": 19,
   "metadata": {},
   "outputs": [
    {
     "name": "stdout",
     "output_type": "stream",
     "text": [
      "20\n"
     ]
    }
   ],
   "source": [
    "print(len(gamma_range))"
   ]
  },
  {
   "cell_type": "code",
   "execution_count": 20,
   "metadata": {},
   "outputs": [],
   "source": [
    "W_final_loss = np.zeros((len(gamma_range),4))\n",
    "for j in range(len(gamma_range)-1):\n",
    "    W_norm = []\n",
    "    for i in range(K):\n",
    "        x = np.random.uniform(-1,1,10)\n",
    "        v = np.random.normal(0,sigma,10)\n",
    "        new_data = pd.DataFrame({'x':x})\n",
    "        new_data['x2'] = np.multiply(new_data['x'],new_data['x'])\n",
    "        new_data['x3'] = np.multiply(new_data['x2'],new_data['x'])\n",
    "        new_data['ones'] = np.ones((10,))\n",
    "        new_data = new_data[['x3','x2','x','ones']]\n",
    "        new_data['y'] = Wtrue[0]*new_data['x3'] + Wtrue[1]*new_data['x2'] + Wtrue[2]*new_data['x'] + Wtrue[0]*new_data['ones'] + v\n",
    "\n",
    "\n",
    "        X = new_data.iloc[:,0:4]\n",
    "\n",
    "\n",
    "\n",
    "        var_ratio = (sigma/gamma_range[j])**2\n",
    "\n",
    "\n",
    "        w_new = np.dot(np.linalg.inv(np.dot(X.T,X)+(var_ratio*np.eye(4))),np.dot(X.T,new_data['y']))\n",
    "\n",
    "        W_norm.append(np.sqrt(np.sum(np.square(w_new-Wtrue))))\n",
    "    \n",
    "    W_final_loss[j,0] = min(W_norm)\n",
    "    W_final_loss[j,1] = np.percentile(W_norm,25)\n",
    "    W_final_loss[j,2] = np.percentile(W_norm,75)\n",
    "    W_final_loss[j,3] = max(W_norm)"
   ]
  },
  {
   "cell_type": "code",
   "execution_count": 29,
   "metadata": {},
   "outputs": [
    {
     "data": {
      "image/png": "[encoded data removed]",
      "text/plain": [
       "<Figure size 432x288 with 1 Axes>"
      ]
     },
     "metadata": {
      "needs_background": "light"
     },
     "output_type": "display_data"
    }
   ],
   "source": [
    "plt.plot(gamma_range,W_final_loss[:,0],color='g')\n",
    "plt.plot(gamma_range,W_final_loss[:,1],color='r')\n",
    "plt.plot(gamma_range,W_final_loss[:,2],color='y')\n",
    "plt.plot(gamma_range,W_final_loss[:,3],color='b')\n",
    "plt.xscale(\"log\")\n",
    "plt.yscale(\"log\")\n",
    "plt.xlabel('Gamma')\n",
    "plt.ylabel('Squared error values')\n",
    "plt.title('Squared error estimate for different values of Gamma')\n",
    "plt.legend(('Minimum', '25 %', '75 %', 'Maximum'))\n",
    "#plt.gca().set_aspect('equal', adjustable='box')\n",
    "plt.show()"
   ]
  },
  {
   "cell_type": "code",
   "execution_count": null,
   "metadata": {},
   "outputs": [],
   "source": []
  },
  {
   "cell_type": "code",
   "execution_count": null,
   "metadata": {},
   "outputs": [],
   "source": []
  }
 ],
 "metadata": {
  "kernelspec": {
   "display_name": "Python 3",
   "language": "python",
   "name": "python3"
  },
  "language_info": {
   "codemirror_mode": {
    "name": "ipython",
    "version": 3
   },
   "file_extension": ".py",
   "mimetype": "text/x-python",
   "name": "python",
   "nbconvert_exporter": "python",
   "pygments_lexer": "ipython3",
   "version": "3.7.4"
  }
 },
 "nbformat": 4,
 "nbformat_minor": 2
}
